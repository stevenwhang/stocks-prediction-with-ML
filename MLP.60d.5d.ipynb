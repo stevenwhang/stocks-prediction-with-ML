{
 "cells": [
  {
   "cell_type": "markdown",
   "metadata": {
    "id": "fUOu8KTijFJR"
   },
   "source": [
    "# 0. IMPORT LIBRARIES"
   ]
  },
  {
   "cell_type": "code",
   "execution_count": 1,
   "metadata": {
    "id": "bA2mAylesY0p"
   },
   "outputs": [],
   "source": [
    "globals().clear\n",
    "import time\n",
    "import math\n",
    "import pandas as pd\n",
    "import numpy as np\n",
    "from matplotlib import pyplot\n",
    "import matplotlib.pyplot as plt\n",
    "import seaborn as sns\n",
    "sns.set()\n",
    "%matplotlib inline\n",
    "from datetime import datetime\n",
    "pd.options.display.max_rows = 5000\n",
    "pd.options.display.max_columns = 500"
   ]
  },
  {
   "cell_type": "code",
   "execution_count": 2,
   "metadata": {
    "id": "vlwAZHD6m8wN"
   },
   "outputs": [],
   "source": [
    "from sklearn.svm import SVR\n",
    "from sklearn.metrics import mean_squared_error\n",
    "from sklearn.metrics import mean_absolute_percentage_error\n",
    "from sklearn.preprocessing import MinMaxScaler\n",
    "from sklearn.ensemble import RandomForestRegressor\n",
    "\n",
    "import tensorflow       as tf\n",
    "import keras.optimizers as op\n",
    "from tensorflow                     import keras\n",
    "from tensorflow.keras.models        import Sequential\n",
    "from tensorflow.keras.layers        import Dense\n",
    "from tensorflow.keras.layers        import Dropout\n",
    "from tensorflow.keras.optimizers    import Adam"
   ]
  },
  {
   "cell_type": "code",
   "execution_count": 3,
   "metadata": {
    "colab": {
     "base_uri": "https://localhost:8080/"
    },
    "executionInfo": {
     "elapsed": 36895,
     "status": "ok",
     "timestamp": 1658884694416,
     "user": {
      "displayName": "Juan Bautista",
      "userId": "05706855501987576761"
     },
     "user_tz": 420
    },
    "id": "iUOSvZ3KBEYg",
    "outputId": "709b37ab-6f12-4af6-d3e9-2cf83f7972aa"
   },
   "outputs": [
    {
     "ename": "ModuleNotFoundError",
     "evalue": "No module named 'google.colab'",
     "output_type": "error",
     "traceback": [
      "\u001b[0;31m---------------------------------------------------------------------------\u001b[0m",
      "\u001b[0;31mModuleNotFoundError\u001b[0m                       Traceback (most recent call last)",
      "\u001b[0;32m<ipython-input-3-d5df0069828e>\u001b[0m in \u001b[0;36m<module>\u001b[0;34m\u001b[0m\n\u001b[0;32m----> 1\u001b[0;31m \u001b[0;32mfrom\u001b[0m \u001b[0mgoogle\u001b[0m\u001b[0;34m.\u001b[0m\u001b[0mcolab\u001b[0m \u001b[0;32mimport\u001b[0m \u001b[0mdrive\u001b[0m\u001b[0;34m\u001b[0m\u001b[0;34m\u001b[0m\u001b[0m\n\u001b[0m\u001b[1;32m      2\u001b[0m \u001b[0mdrive\u001b[0m\u001b[0;34m.\u001b[0m\u001b[0mmount\u001b[0m\u001b[0;34m(\u001b[0m\u001b[0;34m'/content/drive'\u001b[0m\u001b[0;34m)\u001b[0m\u001b[0;34m\u001b[0m\u001b[0;34m\u001b[0m\u001b[0m\n",
      "\u001b[0;31mModuleNotFoundError\u001b[0m: No module named 'google.colab'"
     ]
    }
   ],
   "source": [
    "from google.colab import drive\n",
    "drive.mount('/content/drive')"
   ]
  },
  {
   "cell_type": "markdown",
   "metadata": {
    "id": "XtgZp3MoL0HF"
   },
   "source": [
    "# 1. LOAD AND FORMAT DATA"
   ]
  },
  {
   "cell_type": "code",
   "execution_count": null,
   "metadata": {},
   "outputs": [],
   "source": [
    "#Load Dataset\n",
    "df = pd.read_csv('/Users/stevenwhang/Capstone/Datasets/df.csv')\n",
    "DATETIME = df.DATETIME\n",
    "df.shape"
   ]
  },
  {
   "cell_type": "code",
   "execution_count": null,
   "metadata": {},
   "outputs": [],
   "source": [
    "df.head()"
   ]
  },
  {
   "cell_type": "code",
   "execution_count": null,
   "metadata": {
    "colab": {
     "base_uri": "https://localhost:8080/"
    },
    "executionInfo": {
     "elapsed": 1261,
     "status": "ok",
     "timestamp": 1658884695667,
     "user": {
      "displayName": "Juan Bautista",
      "userId": "05706855501987576761"
     },
     "user_tz": 420
    },
    "id": "UJuXqRMXscgM",
    "outputId": "e12a496d-99b0-4e6e-efbf-240eb9949dd3"
   },
   "outputs": [],
   "source": [
    "# Load dataset\n",
    "path = '/content/drive/MyDrive/CapstoneProject/code/02. Machine Learning/data/'\n",
    "file = 'df.csv'\n",
    "df = pd.read_csv(path+file)\n",
    "DATETIME = df.DATETIME\n",
    "df.shape"
   ]
  },
  {
   "cell_type": "markdown",
   "metadata": {
    "id": "z15idcPOLEpQ"
   },
   "source": [
    "# 2. CREATE THE MODEL: Train 60 days and predict 5 days"
   ]
  },
  {
   "cell_type": "code",
   "execution_count": null,
   "metadata": {
    "colab": {
     "base_uri": "https://localhost:8080/"
    },
    "executionInfo": {
     "elapsed": 24343,
     "status": "ok",
     "timestamp": 1658884720007,
     "user": {
      "displayName": "Juan Bautista",
      "userId": "05706855501987576761"
     },
     "user_tz": 420
    },
    "id": "zyHpusSOnZGy",
    "outputId": "043c2ec6-f246-4385-bdf1-edafed8d5d9b"
   },
   "outputs": [],
   "source": [
    "import time\n",
    "file_name = 'MLP.60d.5d'\n",
    "step_rows  = 5*22     #22*20 #110 (1  day)\n",
    "total_rows = 10758    #489*22     (24 months)\n",
    "train_rows = 60*22 #420*22 #9240  (03 months)\n",
    "\n",
    "scale_X = MinMaxScaler()\n",
    "model = Sequential()\n",
    "model.add(Dense(100, activation = 'relu', input_dim = df.iloc[:,1:-1].shape[1]))  # initiating with 100 neurons\n",
    "model.add(Dropout(0.25))                                                          # adding dropout to avoid overfitting\n",
    "model.add(Dense(1))                                                               # output layer\n",
    "\n",
    "opt = Adam(amsgrad = True, lr = 0.001, beta_1 = 0.79, beta_2 = 0.999)             # using Adam optimizer, at a learning rate of 0.001\n",
    "model.compile(loss = 'mse', optimizer = opt)                                      # compiling model\n",
    "\n",
    "result = pd.DataFrame(columns = ['DATETIME', 'ACTUAL', 'PREDICTED', 'DIFFERENCE', 'TRAIN_DURATION'])\n",
    "\n",
    "for i in range(0, total_rows - train_rows, step_rows):\n",
    "  \n",
    "  st = time.time()\n",
    "  # 1. Obtain X and y\n",
    "  train, test = df.iloc[i:train_rows+i, 1:], df.iloc[train_rows+i:train_rows+i+step_rows, 1:]\n",
    "  X_train, y_train  = train.iloc[:,:-1], train.iloc[:,-1]\n",
    "  X_test , y_test   = test.iloc[:,:-1] , test.iloc[:,-1]\n",
    "\n",
    "  # 2. Scale X\n",
    "  X_train = scale_X.fit_transform(X_train)\n",
    "  X_test = scale_X.transform(X_test)\n",
    "  \n",
    "  # 3. Fit and Predict \n",
    "  model.fit(X_train, y_train)\n",
    "  y_hat = model.predict(X_test, verbose=False)\n",
    "  et = time.time()\n",
    "  # 4. Save data with prediction\n",
    "  fecha = DATETIME.iloc[train_rows+i:train_rows+i+step_rows]\n",
    "  datos = {'DATETIME': fecha.ravel(), 'ACTUAL': y_test.ravel(), 'PREDICTED': y_hat.ravel(), 'DIFFERENCE': abs(y_hat.ravel()-y_test.ravel()), 'TRAIN_DURATION': np.full(y_hat.ravel().shape[0], et-st)}\n",
    "  data = pd.DataFrame(data = datos)\n",
    "  result = result.append(data)\n",
    "\n",
    "  print(\"Count Down: \",  math.trunc((total_rows-train_rows-i)/step_rows))\n",
    "  #print(data.head())\n"
   ]
  },
  {
   "cell_type": "markdown",
   "metadata": {
    "id": "qpmSQSU7Sk0E"
   },
   "source": [
    "# 3. CREATE DATASET FOR METRICS AND GRAPH"
   ]
  },
  {
   "cell_type": "code",
   "execution_count": null,
   "metadata": {
    "id": "HGKy7mlJUYaN"
   },
   "outputs": [],
   "source": [
    "result = result.reset_index(drop=True)\n",
    "result.dropna(inplace = True)\n",
    "result['DATETIME'] = pd.to_datetime(result['DATETIME'], format='%Y-%m-%d %H:%M:%S', errors='ignore')\n",
    "result['DATE']     = result.DATETIME.dt.date"
   ]
  },
  {
   "cell_type": "markdown",
   "metadata": {
    "id": "YaBq891iS9GC"
   },
   "source": [
    "# 4. CREATE THE GRAPH"
   ]
  },
  {
   "cell_type": "code",
   "execution_count": null,
   "metadata": {
    "colab": {
     "base_uri": "https://localhost:8080/",
     "height": 328
    },
    "executionInfo": {
     "elapsed": 2163,
     "status": "ok",
     "timestamp": 1658884774775,
     "user": {
      "displayName": "Juan Bautista",
      "userId": "05706855501987576761"
     },
     "user_tz": 420
    },
    "id": "fGlZP_nonZEN",
    "outputId": "2913f4c3-52a6-4ce2-f497-8014cafe03b4"
   },
   "outputs": [],
   "source": [
    "graph = pd.DataFrame(result.groupby('DATE')['PREDICTED','ACTUAL', 'DIFFERENCE'].mean())\n",
    "graph = graph.iloc[80:,:]\n",
    "plt.figure(figsize=(60,15))\n",
    "linep = sns.lineplot(data = graph, palette=\"tab10\", linewidth=2.5)\n",
    "linep.set(xlabel='Datetime', ylabel='TESLA', title='Predicted vs Actual - Daily')\n",
    "plt.show()"
   ]
  },
  {
   "cell_type": "markdown",
   "metadata": {
    "id": "6j9K-G2QSx5D"
   },
   "source": [
    "# 5. CALCULATE METRICS"
   ]
  },
  {
   "cell_type": "code",
   "execution_count": null,
   "metadata": {
    "colab": {
     "base_uri": "https://localhost:8080/"
    },
    "executionInfo": {
     "elapsed": 158,
     "status": "ok",
     "timestamp": 1658884790479,
     "user": {
      "displayName": "Juan Bautista",
      "userId": "05706855501987576761"
     },
     "user_tz": 420
    },
    "id": "chiQd_0i18zK",
    "outputId": "09b611e2-b36f-4a7b-f83d-629b06240e0b"
   },
   "outputs": [],
   "source": [
    "#Check the overall RMSE value\n",
    "rmse = np.sqrt(mean_squared_error(result['ACTUAL'], result['PREDICTED']))\n",
    "rmse"
   ]
  },
  {
   "cell_type": "code",
   "execution_count": null,
   "metadata": {
    "colab": {
     "base_uri": "https://localhost:8080/"
    },
    "executionInfo": {
     "elapsed": 151,
     "status": "ok",
     "timestamp": 1658884791661,
     "user": {
      "displayName": "Juan Bautista",
      "userId": "05706855501987576761"
     },
     "user_tz": 420
    },
    "id": "OftedWE1LEC4",
    "outputId": "15b8b025-5e07-4803-eff2-7688428a1d9f"
   },
   "outputs": [],
   "source": [
    "#Check the overall MAPE value\n",
    "mape = mean_absolute_percentage_error(result['ACTUAL'], result['PREDICTED'])\n",
    "mape "
   ]
  },
  {
   "cell_type": "code",
   "execution_count": null,
   "metadata": {
    "colab": {
     "base_uri": "https://localhost:8080/"
    },
    "executionInfo": {
     "elapsed": 2,
     "status": "ok",
     "timestamp": 1658884792399,
     "user": {
      "displayName": "Juan Bautista",
      "userId": "05706855501987576761"
     },
     "user_tz": 420
    },
    "id": "QFFoGKxKnY1F",
    "outputId": "93ca96be-7f0e-4b8f-c2a1-9991cb22b10e"
   },
   "outputs": [],
   "source": [
    "#Check the mean difference\n",
    "average = result.DIFFERENCE.mean()\n",
    "average"
   ]
  },
  {
   "cell_type": "code",
   "execution_count": null,
   "metadata": {
    "colab": {
     "base_uri": "https://localhost:8080/"
    },
    "executionInfo": {
     "elapsed": 170,
     "status": "ok",
     "timestamp": 1658884793696,
     "user": {
      "displayName": "Juan Bautista",
      "userId": "05706855501987576761"
     },
     "user_tz": 420
    },
    "id": "s8JB7oqy-Pbd",
    "outputId": "1f6a7c42-78f0-4067-abd5-36e65b67fdbc"
   },
   "outputs": [],
   "source": [
    "#Check the Mean Train Time\n",
    "time = result.TRAIN_DURATION.mean()\n",
    "time # Seconds"
   ]
  },
  {
   "cell_type": "code",
   "execution_count": null,
   "metadata": {
    "colab": {
     "base_uri": "https://localhost:8080/",
     "height": 81
    },
    "executionInfo": {
     "elapsed": 180,
     "status": "ok",
     "timestamp": 1658884794466,
     "user": {
      "displayName": "Juan Bautista",
      "userId": "05706855501987576761"
     },
     "user_tz": 420
    },
    "id": "rQ_qcuSHUKWy",
    "outputId": "af053915-5bfe-4784-cb95-63c7fdcfb284"
   },
   "outputs": [],
   "source": [
    "metrics = {'RMSE': [rmse], 'MAPE': [mape], 'MAE': [average], 'MTT': [time]}\n",
    "metrics = pd.DataFrame(data = metrics, index = ['MLP'])\n",
    "metrics"
   ]
  },
  {
   "cell_type": "code",
   "execution_count": null,
   "metadata": {
    "id": "TQsfwJ_1nYyw"
   },
   "outputs": [],
   "source": [
    "#Writting files\n",
    "path = '/content/drive/MyDrive/CapstoneProject/code/02. Machine Learning/output/'\n",
    "graph.to_csv(path+file_name+'-GRAPH.csv', index=True)\n",
    "result.to_csv(path+file_name+'-RESULT.csv', index=True)\n",
    "metrics.to_csv(path+file_name+'-METRICS.csv', index=True)"
   ]
  },
  {
   "cell_type": "code",
   "execution_count": null,
   "metadata": {
    "id": "DA61X_oZATCB"
   },
   "outputs": [],
   "source": []
  }
 ],
 "metadata": {
  "colab": {
   "authorship_tag": "ABX9TyP1qHJIm/2QRlEhktt7nc+Y",
   "collapsed_sections": [],
   "name": "MLP.60d.5d.ipynb",
   "provenance": [
    {
     "file_id": "17krYVjVq8C2CS2mFG2P8s2FEuz9bo5-L",
     "timestamp": 1657330430294
    }
   ]
  },
  "kernelspec": {
   "display_name": "Python 3",
   "language": "python",
   "name": "python3"
  },
  "language_info": {
   "codemirror_mode": {
    "name": "ipython",
    "version": 3
   },
   "file_extension": ".py",
   "mimetype": "text/x-python",
   "name": "python",
   "nbconvert_exporter": "python",
   "pygments_lexer": "ipython3",
   "version": "3.8.8"
  }
 },
 "nbformat": 4,
 "nbformat_minor": 1
}
