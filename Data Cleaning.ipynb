{
 "cells": [
  {
   "cell_type": "markdown",
   "metadata": {
    "id": "fUOu8KTijFJR"
   },
   "source": [
    "# 0. IMPORT LIBRARIES"
   ]
  },
  {
   "cell_type": "code",
   "execution_count": 490,
   "metadata": {
    "executionInfo": {
     "elapsed": 136,
     "status": "ok",
     "timestamp": 1657051003335,
     "user": {
      "displayName": "Juan Bautista",
      "userId": "05706855501987576761"
     },
     "user_tz": 420
    },
    "id": "bA2mAylesY0p"
   },
   "outputs": [],
   "source": [
    "globals().clear\n",
    "\n",
    "import holidays\n",
    "import pandas as pd\n",
    "import numpy as np\n",
    "from matplotlib import pyplot\n",
    "import matplotlib.pyplot as plt\n",
    "import seaborn as sns\n",
    "sns.set()\n",
    "%matplotlib inline\n",
    "from datetime import datetime\n",
    "\n",
    "pd.options.display.max_rows = 500\n",
    "pd.options.display.max_columns = 500"
   ]
  },
  {
   "cell_type": "code",
   "execution_count": 491,
   "metadata": {
    "colab": {
     "base_uri": "https://localhost:8080/"
    },
    "executionInfo": {
     "elapsed": 1170,
     "status": "ok",
     "timestamp": 1657051004735,
     "user": {
      "displayName": "Juan Bautista",
      "userId": "05706855501987576761"
     },
     "user_tz": 420
    },
    "id": "iUOSvZ3KBEYg",
    "outputId": "801de496-1695-4907-ce36-4895c8445b99"
   },
   "outputs": [
    {
     "name": "stdout",
     "output_type": "stream",
     "text": [
      "Drive already mounted at /content/drive; to attempt to forcibly remount, call drive.mount(\"/content/drive\", force_remount=True).\n"
     ]
    }
   ],
   "source": [
    "from google.colab import drive\n",
    "drive.mount('/content/drive')"
   ]
  },
  {
   "cell_type": "markdown",
   "metadata": {
    "id": "XtgZp3MoL0HF"
   },
   "source": [
    "# 1. LOAD AND FORMAT DATASETS"
   ]
  },
  {
   "cell_type": "markdown",
   "metadata": {
    "id": "4GpbyqqwYo20"
   },
   "source": [
    "###  a) BOND: FIVE-YEAR TREASURY YIELD (FVX)"
   ]
  },
  {
   "cell_type": "code",
   "execution_count": 492,
   "metadata": {
    "colab": {
     "base_uri": "https://localhost:8080/"
    },
    "executionInfo": {
     "elapsed": 8,
     "status": "ok",
     "timestamp": 1657051004736,
     "user": {
      "displayName": "Juan Bautista",
      "userId": "05706855501987576761"
     },
     "user_tz": 420
    },
    "id": "UJuXqRMXscgM",
    "outputId": "90a09edd-3d6c-4e90-e397-01fd4af143bd"
   },
   "outputs": [
    {
     "data": {
      "text/plain": [
       "(13705, 9)"
      ]
     },
     "execution_count": 492,
     "metadata": {},
     "output_type": "execute_result"
    }
   ],
   "source": [
    "# Load dataset\n",
    "path = '/content/drive/MyDrive/CapstoneProject/code/01. Cleaning/rawdata/'\n",
    "file = 'bond/fvx_5ybonds_intraday-15min_2yrhistorical-data.csv'\n",
    "fvx = pd.read_csv(path+file)\n",
    "fvx.shape"
   ]
  },
  {
   "cell_type": "code",
   "execution_count": 493,
   "metadata": {
    "executionInfo": {
     "elapsed": 7,
     "status": "ok",
     "timestamp": 1657051004736,
     "user": {
      "displayName": "Juan Bautista",
      "userId": "05706855501987576761"
     },
     "user_tz": 420
    },
    "id": "a-DBJUq1-9vo"
   },
   "outputs": [],
   "source": [
    "#Formating Date/Time\n",
    "fvx['DATETIME']    = pd.to_datetime(fvx['Time'], format='%Y-%m-%d %H:%M:%S', errors='ignore')"
   ]
  },
  {
   "cell_type": "code",
   "execution_count": 494,
   "metadata": {
    "executionInfo": {
     "elapsed": 8,
     "status": "ok",
     "timestamp": 1657051004737,
     "user": {
      "displayName": "Juan Bautista",
      "userId": "05706855501987576761"
     },
     "user_tz": 420
    },
    "id": "ywzbZK4y_Ou1"
   },
   "outputs": [],
   "source": [
    "#Dropping extra columns\n",
    "fvx.drop(columns=['Unnamed: 0'], inplace=True)\n",
    "fvx.drop(columns=['Open'], inplace=True)\n",
    "fvx.drop(columns=['High'], inplace=True)\n",
    "fvx.drop(columns=['Low'], inplace=True)\n",
    "fvx.drop(columns=['Change'], inplace=True)\n",
    "fvx.drop(columns=['%Chg'], inplace=True)\n",
    "fvx.drop(columns=['Time'], inplace=True)\n",
    "fvx.drop(columns=['Volume'], inplace=True)\n",
    "\n",
    "#Renaming columns\n",
    "fvx.rename(columns={'Last': 'FVX_PRICE'}, inplace=True)"
   ]
  },
  {
   "cell_type": "code",
   "execution_count": 495,
   "metadata": {
    "executionInfo": {
     "elapsed": 8,
     "status": "ok",
     "timestamp": 1657051004737,
     "user": {
      "displayName": "Juan Bautista",
      "userId": "05706855501987576761"
     },
     "user_tz": 420
    },
    "id": "u37j7bAQ-9vq"
   },
   "outputs": [],
   "source": [
    "index = ['DATETIME',  'FVX_PRICE']\n",
    "fvx = fvx.reindex(columns = index)\n",
    "fvx.sort_values(by = 'DATETIME', ascending = True, inplace = True)\n",
    "fvx = fvx.reset_index(drop=True)"
   ]
  },
  {
   "cell_type": "code",
   "execution_count": 496,
   "metadata": {
    "colab": {
     "base_uri": "https://localhost:8080/",
     "height": 206
    },
    "executionInfo": {
     "elapsed": 216,
     "status": "ok",
     "timestamp": 1657051004946,
     "user": {
      "displayName": "Juan Bautista",
      "userId": "05706855501987576761"
     },
     "user_tz": 420
    },
    "id": "IhP446Pk--xx",
    "outputId": "a83a176a-beb0-4752-e663-66ab3a1863a0"
   },
   "outputs": [
    {
     "data": {
      "text/html": [
       "\n",
       "  <div id=\"df-f4d61128-d6a7-4f63-b19f-85b365eff782\">\n",
       "    <div class=\"colab-df-container\">\n",
       "      <div>\n",
       "<style scoped>\n",
       "    .dataframe tbody tr th:only-of-type {\n",
       "        vertical-align: middle;\n",
       "    }\n",
       "\n",
       "    .dataframe tbody tr th {\n",
       "        vertical-align: top;\n",
       "    }\n",
       "\n",
       "    .dataframe thead th {\n",
       "        text-align: right;\n",
       "    }\n",
       "</style>\n",
       "<table border=\"1\" class=\"dataframe\">\n",
       "  <thead>\n",
       "    <tr style=\"text-align: right;\">\n",
       "      <th></th>\n",
       "      <th>DATETIME</th>\n",
       "      <th>FVX_PRICE</th>\n",
       "    </tr>\n",
       "  </thead>\n",
       "  <tbody>\n",
       "    <tr>\n",
       "      <th>0</th>\n",
       "      <td>2020-06-01 08:15:00</td>\n",
       "      <td>0.31</td>\n",
       "    </tr>\n",
       "    <tr>\n",
       "      <th>1</th>\n",
       "      <td>2020-06-01 08:30:00</td>\n",
       "      <td>0.31</td>\n",
       "    </tr>\n",
       "    <tr>\n",
       "      <th>2</th>\n",
       "      <td>2020-06-01 08:45:00</td>\n",
       "      <td>0.31</td>\n",
       "    </tr>\n",
       "    <tr>\n",
       "      <th>3</th>\n",
       "      <td>2020-06-01 09:00:00</td>\n",
       "      <td>0.31</td>\n",
       "    </tr>\n",
       "    <tr>\n",
       "      <th>4</th>\n",
       "      <td>2020-06-01 09:15:00</td>\n",
       "      <td>0.31</td>\n",
       "    </tr>\n",
       "  </tbody>\n",
       "</table>\n",
       "</div>\n",
       "      <button class=\"colab-df-convert\" onclick=\"convertToInteractive('df-f4d61128-d6a7-4f63-b19f-85b365eff782')\"\n",
       "              title=\"Convert this dataframe to an interactive table.\"\n",
       "              style=\"display:none;\">\n",
       "        \n",
       "  <svg xmlns=\"http://www.w3.org/2000/svg\" height=\"24px\"viewBox=\"0 0 24 24\"\n",
       "       width=\"24px\">\n",
       "    <path d=\"M0 0h24v24H0V0z\" fill=\"none\"/>\n",
       "    <path d=\"M18.56 5.44l.94 2.06.94-2.06 2.06-.94-2.06-.94-.94-2.06-.94 2.06-2.06.94zm-11 1L8.5 8.5l.94-2.06 2.06-.94-2.06-.94L8.5 2.5l-.94 2.06-2.06.94zm10 10l.94 2.06.94-2.06 2.06-.94-2.06-.94-.94-2.06-.94 2.06-2.06.94z\"/><path d=\"M17.41 7.96l-1.37-1.37c-.4-.4-.92-.59-1.43-.59-.52 0-1.04.2-1.43.59L10.3 9.45l-7.72 7.72c-.78.78-.78 2.05 0 2.83L4 21.41c.39.39.9.59 1.41.59.51 0 1.02-.2 1.41-.59l7.78-7.78 2.81-2.81c.8-.78.8-2.07 0-2.86zM5.41 20L4 18.59l7.72-7.72 1.47 1.35L5.41 20z\"/>\n",
       "  </svg>\n",
       "      </button>\n",
       "      \n",
       "  <style>\n",
       "    .colab-df-container {\n",
       "      display:flex;\n",
       "      flex-wrap:wrap;\n",
       "      gap: 12px;\n",
       "    }\n",
       "\n",
       "    .colab-df-convert {\n",
       "      background-color: #E8F0FE;\n",
       "      border: none;\n",
       "      border-radius: 50%;\n",
       "      cursor: pointer;\n",
       "      display: none;\n",
       "      fill: #1967D2;\n",
       "      height: 32px;\n",
       "      padding: 0 0 0 0;\n",
       "      width: 32px;\n",
       "    }\n",
       "\n",
       "    .colab-df-convert:hover {\n",
       "      background-color: #E2EBFA;\n",
       "      box-shadow: 0px 1px 2px rgba(60, 64, 67, 0.3), 0px 1px 3px 1px rgba(60, 64, 67, 0.15);\n",
       "      fill: #174EA6;\n",
       "    }\n",
       "\n",
       "    [theme=dark] .colab-df-convert {\n",
       "      background-color: #3B4455;\n",
       "      fill: #D2E3FC;\n",
       "    }\n",
       "\n",
       "    [theme=dark] .colab-df-convert:hover {\n",
       "      background-color: #434B5C;\n",
       "      box-shadow: 0px 1px 3px 1px rgba(0, 0, 0, 0.15);\n",
       "      filter: drop-shadow(0px 1px 2px rgba(0, 0, 0, 0.3));\n",
       "      fill: #FFFFFF;\n",
       "    }\n",
       "  </style>\n",
       "\n",
       "      <script>\n",
       "        const buttonEl =\n",
       "          document.querySelector('#df-f4d61128-d6a7-4f63-b19f-85b365eff782 button.colab-df-convert');\n",
       "        buttonEl.style.display =\n",
       "          google.colab.kernel.accessAllowed ? 'block' : 'none';\n",
       "\n",
       "        async function convertToInteractive(key) {\n",
       "          const element = document.querySelector('#df-f4d61128-d6a7-4f63-b19f-85b365eff782');\n",
       "          const dataTable =\n",
       "            await google.colab.kernel.invokeFunction('convertToInteractive',\n",
       "                                                     [key], {});\n",
       "          if (!dataTable) return;\n",
       "\n",
       "          const docLinkHtml = 'Like what you see? Visit the ' +\n",
       "            '<a target=\"_blank\" href=https://colab.research.google.com/notebooks/data_table.ipynb>data table notebook</a>'\n",
       "            + ' to learn more about interactive tables.';\n",
       "          element.innerHTML = '';\n",
       "          dataTable['output_type'] = 'display_data';\n",
       "          await google.colab.output.renderOutput(dataTable, element);\n",
       "          const docLink = document.createElement('div');\n",
       "          docLink.innerHTML = docLinkHtml;\n",
       "          element.appendChild(docLink);\n",
       "        }\n",
       "      </script>\n",
       "    </div>\n",
       "  </div>\n",
       "  "
      ],
      "text/plain": [
       "             DATETIME  FVX_PRICE\n",
       "0 2020-06-01 08:15:00       0.31\n",
       "1 2020-06-01 08:30:00       0.31\n",
       "2 2020-06-01 08:45:00       0.31\n",
       "3 2020-06-01 09:00:00       0.31\n",
       "4 2020-06-01 09:15:00       0.31"
      ]
     },
     "execution_count": 496,
     "metadata": {},
     "output_type": "execute_result"
    }
   ],
   "source": [
    "fvx.head()"
   ]
  },
  {
   "cell_type": "code",
   "execution_count": 496,
   "metadata": {
    "executionInfo": {
     "elapsed": 5,
     "status": "ok",
     "timestamp": 1657051004947,
     "user": {
      "displayName": "Juan Bautista",
      "userId": "05706855501987576761"
     },
     "user_tz": 420
    },
    "id": "6oOMruuIBVcP"
   },
   "outputs": [],
   "source": []
  },
  {
   "cell_type": "markdown",
   "metadata": {
    "id": "8ZO0j57gUeDt"
   },
   "source": [
    "###  b) BOND: TEN-YEAR TREASURY YIELD (TVX)"
   ]
  },
  {
   "cell_type": "code",
   "execution_count": 497,
   "metadata": {
    "colab": {
     "base_uri": "https://localhost:8080/"
    },
    "executionInfo": {
     "elapsed": 5,
     "status": "ok",
     "timestamp": 1657051004947,
     "user": {
      "displayName": "Juan Bautista",
      "userId": "05706855501987576761"
     },
     "user_tz": 420
    },
    "id": "JforFw9_UeD7",
    "outputId": "036d0123-6cc4-4c4a-c570-5d5bafd36e84"
   },
   "outputs": [
    {
     "data": {
      "text/plain": [
       "(13708, 9)"
      ]
     },
     "execution_count": 497,
     "metadata": {},
     "output_type": "execute_result"
    }
   ],
   "source": [
    "file = 'bond/tnx_10ybonds_intraday-15min_2yhistorical-data.csv'\n",
    "tvx = pd.read_csv(path+file)\n",
    "tvx.shape"
   ]
  },
  {
   "cell_type": "code",
   "execution_count": 498,
   "metadata": {
    "executionInfo": {
     "elapsed": 4,
     "status": "ok",
     "timestamp": 1657051004947,
     "user": {
      "displayName": "Juan Bautista",
      "userId": "05706855501987576761"
     },
     "user_tz": 420
    },
    "id": "580nZtxN_vEl"
   },
   "outputs": [],
   "source": [
    "#Formating Date/Time\n",
    "tvx['DATETIME']    = pd.to_datetime(tvx['Time'], format='%Y-%m-%d %H:%M:%S', errors='ignore')"
   ]
  },
  {
   "cell_type": "code",
   "execution_count": 499,
   "metadata": {
    "executionInfo": {
     "elapsed": 5,
     "status": "ok",
     "timestamp": 1657051004948,
     "user": {
      "displayName": "Juan Bautista",
      "userId": "05706855501987576761"
     },
     "user_tz": 420
    },
    "id": "XtPrI91d_vEm"
   },
   "outputs": [],
   "source": [
    "#Dropping extra columns\n",
    "tvx.drop(columns=['Unnamed: 0'], inplace=True)\n",
    "tvx.drop(columns=['Open'], inplace=True)\n",
    "tvx.drop(columns=['High'], inplace=True)\n",
    "tvx.drop(columns=['Low'], inplace=True)\n",
    "tvx.drop(columns=['Change'], inplace=True)\n",
    "tvx.drop(columns=['%Chg'], inplace=True)\n",
    "tvx.drop(columns=['Time'], inplace=True)\n",
    "tvx.drop(columns=['Volume'], inplace=True)\n",
    "\n",
    "#Renaming columns\n",
    "tvx.rename(columns={'Last': 'TVX_PRICE'}, inplace=True)"
   ]
  },
  {
   "cell_type": "code",
   "execution_count": 500,
   "metadata": {
    "executionInfo": {
     "elapsed": 5,
     "status": "ok",
     "timestamp": 1657051004948,
     "user": {
      "displayName": "Juan Bautista",
      "userId": "05706855501987576761"
     },
     "user_tz": 420
    },
    "id": "3gJtXyem_vEm"
   },
   "outputs": [],
   "source": [
    "#index = ['DATETIME', 'DATE', 'YEAR', 'MONTH', 'DAY', 'HOUR', 'MINUTE', 'WEEK_DAY', 'TVX_PRICE']\n",
    "index = ['DATETIME', 'TVX_PRICE']\n",
    "tvx = tvx.reindex(columns = index)\n",
    "tvx.sort_values(by = 'DATETIME', ascending = True, inplace = True)\n",
    "tvx = tvx.reset_index(drop=True)"
   ]
  },
  {
   "cell_type": "code",
   "execution_count": 501,
   "metadata": {
    "colab": {
     "base_uri": "https://localhost:8080/",
     "height": 206
    },
    "executionInfo": {
     "elapsed": 6,
     "status": "ok",
     "timestamp": 1657051004949,
     "user": {
      "displayName": "Juan Bautista",
      "userId": "05706855501987576761"
     },
     "user_tz": 420
    },
    "id": "w4J6KR7YCIuE",
    "outputId": "649c8c46-6d45-424d-be38-6b637c1beedd"
   },
   "outputs": [
    {
     "data": {
      "text/html": [
       "\n",
       "  <div id=\"df-5619d67d-5948-4ec8-bebc-4a6812a7dbe3\">\n",
       "    <div class=\"colab-df-container\">\n",
       "      <div>\n",
       "<style scoped>\n",
       "    .dataframe tbody tr th:only-of-type {\n",
       "        vertical-align: middle;\n",
       "    }\n",
       "\n",
       "    .dataframe tbody tr th {\n",
       "        vertical-align: top;\n",
       "    }\n",
       "\n",
       "    .dataframe thead th {\n",
       "        text-align: right;\n",
       "    }\n",
       "</style>\n",
       "<table border=\"1\" class=\"dataframe\">\n",
       "  <thead>\n",
       "    <tr style=\"text-align: right;\">\n",
       "      <th></th>\n",
       "      <th>DATETIME</th>\n",
       "      <th>TVX_PRICE</th>\n",
       "    </tr>\n",
       "  </thead>\n",
       "  <tbody>\n",
       "    <tr>\n",
       "      <th>0</th>\n",
       "      <td>2020-06-01 08:15:00</td>\n",
       "      <td>0.67</td>\n",
       "    </tr>\n",
       "    <tr>\n",
       "      <th>1</th>\n",
       "      <td>2020-06-01 08:30:00</td>\n",
       "      <td>0.68</td>\n",
       "    </tr>\n",
       "    <tr>\n",
       "      <th>2</th>\n",
       "      <td>2020-06-01 08:45:00</td>\n",
       "      <td>0.67</td>\n",
       "    </tr>\n",
       "    <tr>\n",
       "      <th>3</th>\n",
       "      <td>2020-06-01 09:00:00</td>\n",
       "      <td>0.67</td>\n",
       "    </tr>\n",
       "    <tr>\n",
       "      <th>4</th>\n",
       "      <td>2020-06-01 09:15:00</td>\n",
       "      <td>0.67</td>\n",
       "    </tr>\n",
       "  </tbody>\n",
       "</table>\n",
       "</div>\n",
       "      <button class=\"colab-df-convert\" onclick=\"convertToInteractive('df-5619d67d-5948-4ec8-bebc-4a6812a7dbe3')\"\n",
       "              title=\"Convert this dataframe to an interactive table.\"\n",
       "              style=\"display:none;\">\n",
       "        \n",
       "  <svg xmlns=\"http://www.w3.org/2000/svg\" height=\"24px\"viewBox=\"0 0 24 24\"\n",
       "       width=\"24px\">\n",
       "    <path d=\"M0 0h24v24H0V0z\" fill=\"none\"/>\n",
       "    <path d=\"M18.56 5.44l.94 2.06.94-2.06 2.06-.94-2.06-.94-.94-2.06-.94 2.06-2.06.94zm-11 1L8.5 8.5l.94-2.06 2.06-.94-2.06-.94L8.5 2.5l-.94 2.06-2.06.94zm10 10l.94 2.06.94-2.06 2.06-.94-2.06-.94-.94-2.06-.94 2.06-2.06.94z\"/><path d=\"M17.41 7.96l-1.37-1.37c-.4-.4-.92-.59-1.43-.59-.52 0-1.04.2-1.43.59L10.3 9.45l-7.72 7.72c-.78.78-.78 2.05 0 2.83L4 21.41c.39.39.9.59 1.41.59.51 0 1.02-.2 1.41-.59l7.78-7.78 2.81-2.81c.8-.78.8-2.07 0-2.86zM5.41 20L4 18.59l7.72-7.72 1.47 1.35L5.41 20z\"/>\n",
       "  </svg>\n",
       "      </button>\n",
       "      \n",
       "  <style>\n",
       "    .colab-df-container {\n",
       "      display:flex;\n",
       "      flex-wrap:wrap;\n",
       "      gap: 12px;\n",
       "    }\n",
       "\n",
       "    .colab-df-convert {\n",
       "      background-color: #E8F0FE;\n",
       "      border: none;\n",
       "      border-radius: 50%;\n",
       "      cursor: pointer;\n",
       "      display: none;\n",
       "      fill: #1967D2;\n",
       "      height: 32px;\n",
       "      padding: 0 0 0 0;\n",
       "      width: 32px;\n",
       "    }\n",
       "\n",
       "    .colab-df-convert:hover {\n",
       "      background-color: #E2EBFA;\n",
       "      box-shadow: 0px 1px 2px rgba(60, 64, 67, 0.3), 0px 1px 3px 1px rgba(60, 64, 67, 0.15);\n",
       "      fill: #174EA6;\n",
       "    }\n",
       "\n",
       "    [theme=dark] .colab-df-convert {\n",
       "      background-color: #3B4455;\n",
       "      fill: #D2E3FC;\n",
       "    }\n",
       "\n",
       "    [theme=dark] .colab-df-convert:hover {\n",
       "      background-color: #434B5C;\n",
       "      box-shadow: 0px 1px 3px 1px rgba(0, 0, 0, 0.15);\n",
       "      filter: drop-shadow(0px 1px 2px rgba(0, 0, 0, 0.3));\n",
       "      fill: #FFFFFF;\n",
       "    }\n",
       "  </style>\n",
       "\n",
       "      <script>\n",
       "        const buttonEl =\n",
       "          document.querySelector('#df-5619d67d-5948-4ec8-bebc-4a6812a7dbe3 button.colab-df-convert');\n",
       "        buttonEl.style.display =\n",
       "          google.colab.kernel.accessAllowed ? 'block' : 'none';\n",
       "\n",
       "        async function convertToInteractive(key) {\n",
       "          const element = document.querySelector('#df-5619d67d-5948-4ec8-bebc-4a6812a7dbe3');\n",
       "          const dataTable =\n",
       "            await google.colab.kernel.invokeFunction('convertToInteractive',\n",
       "                                                     [key], {});\n",
       "          if (!dataTable) return;\n",
       "\n",
       "          const docLinkHtml = 'Like what you see? Visit the ' +\n",
       "            '<a target=\"_blank\" href=https://colab.research.google.com/notebooks/data_table.ipynb>data table notebook</a>'\n",
       "            + ' to learn more about interactive tables.';\n",
       "          element.innerHTML = '';\n",
       "          dataTable['output_type'] = 'display_data';\n",
       "          await google.colab.output.renderOutput(dataTable, element);\n",
       "          const docLink = document.createElement('div');\n",
       "          docLink.innerHTML = docLinkHtml;\n",
       "          element.appendChild(docLink);\n",
       "        }\n",
       "      </script>\n",
       "    </div>\n",
       "  </div>\n",
       "  "
      ],
      "text/plain": [
       "             DATETIME  TVX_PRICE\n",
       "0 2020-06-01 08:15:00       0.67\n",
       "1 2020-06-01 08:30:00       0.68\n",
       "2 2020-06-01 08:45:00       0.67\n",
       "3 2020-06-01 09:00:00       0.67\n",
       "4 2020-06-01 09:15:00       0.67"
      ]
     },
     "execution_count": 501,
     "metadata": {},
     "output_type": "execute_result"
    }
   ],
   "source": [
    "tvx.head()"
   ]
  },
  {
   "cell_type": "code",
   "execution_count": 501,
   "metadata": {
    "executionInfo": {
     "elapsed": 6,
     "status": "ok",
     "timestamp": 1657051004949,
     "user": {
      "displayName": "Juan Bautista",
      "userId": "05706855501987576761"
     },
     "user_tz": 420
    },
    "id": "dqYTORt9AKLu"
   },
   "outputs": [],
   "source": []
  },
  {
   "cell_type": "markdown",
   "metadata": {
    "id": "wEUMEzSpAyS_"
   },
   "source": [
    "###  c) INDEX: DOW JONES INDEX (DOW)"
   ]
  },
  {
   "cell_type": "code",
   "execution_count": 502,
   "metadata": {
    "colab": {
     "base_uri": "https://localhost:8080/"
    },
    "executionInfo": {
     "elapsed": 6,
     "status": "ok",
     "timestamp": 1657051004949,
     "user": {
      "displayName": "Juan Bautista",
      "userId": "05706855501987576761"
     },
     "user_tz": 420
    },
    "id": "Nlib9BTBAtAd",
    "outputId": "4ac2b70d-7d89-48a5-fbeb-c7c5edb079f5"
   },
   "outputs": [
    {
     "data": {
      "text/plain": [
       "(14614, 9)"
      ]
     },
     "execution_count": 502,
     "metadata": {},
     "output_type": "execute_result"
    }
   ],
   "source": [
    "# loading the dataset\n",
    "file = 'index/dowi_intraday-15min_historical-data.csv'\n",
    "dow = pd.read_csv(path+file)\n",
    "dow.shape"
   ]
  },
  {
   "cell_type": "code",
   "execution_count": 503,
   "metadata": {
    "executionInfo": {
     "elapsed": 12,
     "status": "ok",
     "timestamp": 1657051005178,
     "user": {
      "displayName": "Juan Bautista",
      "userId": "05706855501987576761"
     },
     "user_tz": 420
    },
    "id": "ctt4vVafBDcZ"
   },
   "outputs": [],
   "source": [
    "#Formating Date/Time\n",
    "dow['DATETIME']    = pd.to_datetime(dow['Time'], format='%Y-%m-%d %H:%M:%S', errors='ignore')\n",
    "\n",
    "#Dropping extra columns\n",
    "dow.drop(columns=['Unnamed: 0'], inplace=True)\n",
    "dow.drop(columns=['Open'], inplace=True)\n",
    "dow.drop(columns=['High'], inplace=True)\n",
    "dow.drop(columns=['Low'], inplace=True)\n",
    "dow.drop(columns=['Change'], inplace=True)\n",
    "dow.drop(columns=['%Chg'], inplace=True)\n",
    "dow.drop(columns=['Time'], inplace=True)\n",
    "dow.drop(columns=['Volume'], inplace=True)\n",
    "\n",
    "#Renaming columns\n",
    "dow.rename(columns={'Last': 'DOW_PRICE'}, inplace=True)"
   ]
  },
  {
   "cell_type": "code",
   "execution_count": 504,
   "metadata": {
    "executionInfo": {
     "elapsed": 11,
     "status": "ok",
     "timestamp": 1657051005178,
     "user": {
      "displayName": "Juan Bautista",
      "userId": "05706855501987576761"
     },
     "user_tz": 420
    },
    "id": "KBLLoQzAAtAe"
   },
   "outputs": [],
   "source": [
    "index = ['DATETIME', 'DOW_PRICE']\n",
    "dow = dow.reindex(columns = index)\n",
    "dow.sort_values(by = 'DATETIME', ascending = True, inplace = True)\n",
    "dow = dow.reset_index(drop=True)"
   ]
  },
  {
   "cell_type": "code",
   "execution_count": 505,
   "metadata": {
    "colab": {
     "base_uri": "https://localhost:8080/",
     "height": 206
    },
    "executionInfo": {
     "elapsed": 11,
     "status": "ok",
     "timestamp": 1657051005178,
     "user": {
      "displayName": "Juan Bautista",
      "userId": "05706855501987576761"
     },
     "user_tz": 420
    },
    "id": "mcOVqXP2BfcM",
    "outputId": "d66c0c5c-a3df-4ceb-8b95-891684e34bbf"
   },
   "outputs": [
    {
     "data": {
      "text/html": [
       "\n",
       "  <div id=\"df-5cf8f2aa-8427-4159-9ffd-40c254999dc4\">\n",
       "    <div class=\"colab-df-container\">\n",
       "      <div>\n",
       "<style scoped>\n",
       "    .dataframe tbody tr th:only-of-type {\n",
       "        vertical-align: middle;\n",
       "    }\n",
       "\n",
       "    .dataframe tbody tr th {\n",
       "        vertical-align: top;\n",
       "    }\n",
       "\n",
       "    .dataframe thead th {\n",
       "        text-align: right;\n",
       "    }\n",
       "</style>\n",
       "<table border=\"1\" class=\"dataframe\">\n",
       "  <thead>\n",
       "    <tr style=\"text-align: right;\">\n",
       "      <th></th>\n",
       "      <th>DATETIME</th>\n",
       "      <th>DOW_PRICE</th>\n",
       "    </tr>\n",
       "  </thead>\n",
       "  <tbody>\n",
       "    <tr>\n",
       "      <th>0</th>\n",
       "      <td>2020-06-01 09:30:00</td>\n",
       "      <td>25313.63</td>\n",
       "    </tr>\n",
       "    <tr>\n",
       "      <th>1</th>\n",
       "      <td>2020-06-01 09:45:00</td>\n",
       "      <td>25365.99</td>\n",
       "    </tr>\n",
       "    <tr>\n",
       "      <th>2</th>\n",
       "      <td>2020-06-01 10:00:00</td>\n",
       "      <td>25421.55</td>\n",
       "    </tr>\n",
       "    <tr>\n",
       "      <th>3</th>\n",
       "      <td>2020-06-01 10:15:00</td>\n",
       "      <td>25436.04</td>\n",
       "    </tr>\n",
       "    <tr>\n",
       "      <th>4</th>\n",
       "      <td>2020-06-01 10:30:00</td>\n",
       "      <td>25473.21</td>\n",
       "    </tr>\n",
       "  </tbody>\n",
       "</table>\n",
       "</div>\n",
       "      <button class=\"colab-df-convert\" onclick=\"convertToInteractive('df-5cf8f2aa-8427-4159-9ffd-40c254999dc4')\"\n",
       "              title=\"Convert this dataframe to an interactive table.\"\n",
       "              style=\"display:none;\">\n",
       "        \n",
       "  <svg xmlns=\"http://www.w3.org/2000/svg\" height=\"24px\"viewBox=\"0 0 24 24\"\n",
       "       width=\"24px\">\n",
       "    <path d=\"M0 0h24v24H0V0z\" fill=\"none\"/>\n",
       "    <path d=\"M18.56 5.44l.94 2.06.94-2.06 2.06-.94-2.06-.94-.94-2.06-.94 2.06-2.06.94zm-11 1L8.5 8.5l.94-2.06 2.06-.94-2.06-.94L8.5 2.5l-.94 2.06-2.06.94zm10 10l.94 2.06.94-2.06 2.06-.94-2.06-.94-.94-2.06-.94 2.06-2.06.94z\"/><path d=\"M17.41 7.96l-1.37-1.37c-.4-.4-.92-.59-1.43-.59-.52 0-1.04.2-1.43.59L10.3 9.45l-7.72 7.72c-.78.78-.78 2.05 0 2.83L4 21.41c.39.39.9.59 1.41.59.51 0 1.02-.2 1.41-.59l7.78-7.78 2.81-2.81c.8-.78.8-2.07 0-2.86zM5.41 20L4 18.59l7.72-7.72 1.47 1.35L5.41 20z\"/>\n",
       "  </svg>\n",
       "      </button>\n",
       "      \n",
       "  <style>\n",
       "    .colab-df-container {\n",
       "      display:flex;\n",
       "      flex-wrap:wrap;\n",
       "      gap: 12px;\n",
       "    }\n",
       "\n",
       "    .colab-df-convert {\n",
       "      background-color: #E8F0FE;\n",
       "      border: none;\n",
       "      border-radius: 50%;\n",
       "      cursor: pointer;\n",
       "      display: none;\n",
       "      fill: #1967D2;\n",
       "      height: 32px;\n",
       "      padding: 0 0 0 0;\n",
       "      width: 32px;\n",
       "    }\n",
       "\n",
       "    .colab-df-convert:hover {\n",
       "      background-color: #E2EBFA;\n",
       "      box-shadow: 0px 1px 2px rgba(60, 64, 67, 0.3), 0px 1px 3px 1px rgba(60, 64, 67, 0.15);\n",
       "      fill: #174EA6;\n",
       "    }\n",
       "\n",
       "    [theme=dark] .colab-df-convert {\n",
       "      background-color: #3B4455;\n",
       "      fill: #D2E3FC;\n",
       "    }\n",
       "\n",
       "    [theme=dark] .colab-df-convert:hover {\n",
       "      background-color: #434B5C;\n",
       "      box-shadow: 0px 1px 3px 1px rgba(0, 0, 0, 0.15);\n",
       "      filter: drop-shadow(0px 1px 2px rgba(0, 0, 0, 0.3));\n",
       "      fill: #FFFFFF;\n",
       "    }\n",
       "  </style>\n",
       "\n",
       "      <script>\n",
       "        const buttonEl =\n",
       "          document.querySelector('#df-5cf8f2aa-8427-4159-9ffd-40c254999dc4 button.colab-df-convert');\n",
       "        buttonEl.style.display =\n",
       "          google.colab.kernel.accessAllowed ? 'block' : 'none';\n",
       "\n",
       "        async function convertToInteractive(key) {\n",
       "          const element = document.querySelector('#df-5cf8f2aa-8427-4159-9ffd-40c254999dc4');\n",
       "          const dataTable =\n",
       "            await google.colab.kernel.invokeFunction('convertToInteractive',\n",
       "                                                     [key], {});\n",
       "          if (!dataTable) return;\n",
       "\n",
       "          const docLinkHtml = 'Like what you see? Visit the ' +\n",
       "            '<a target=\"_blank\" href=https://colab.research.google.com/notebooks/data_table.ipynb>data table notebook</a>'\n",
       "            + ' to learn more about interactive tables.';\n",
       "          element.innerHTML = '';\n",
       "          dataTable['output_type'] = 'display_data';\n",
       "          await google.colab.output.renderOutput(dataTable, element);\n",
       "          const docLink = document.createElement('div');\n",
       "          docLink.innerHTML = docLinkHtml;\n",
       "          element.appendChild(docLink);\n",
       "        }\n",
       "      </script>\n",
       "    </div>\n",
       "  </div>\n",
       "  "
      ],
      "text/plain": [
       "             DATETIME  DOW_PRICE\n",
       "0 2020-06-01 09:30:00   25313.63\n",
       "1 2020-06-01 09:45:00   25365.99\n",
       "2 2020-06-01 10:00:00   25421.55\n",
       "3 2020-06-01 10:15:00   25436.04\n",
       "4 2020-06-01 10:30:00   25473.21"
      ]
     },
     "execution_count": 505,
     "metadata": {},
     "output_type": "execute_result"
    }
   ],
   "source": [
    "dow.head()"
   ]
  },
  {
   "cell_type": "code",
   "execution_count": 505,
   "metadata": {
    "executionInfo": {
     "elapsed": 11,
     "status": "ok",
     "timestamp": 1657051005179,
     "user": {
      "displayName": "Juan Bautista",
      "userId": "05706855501987576761"
     },
     "user_tz": 420
    },
    "id": "d6LyqTIlALsL"
   },
   "outputs": [],
   "source": []
  },
  {
   "cell_type": "markdown",
   "metadata": {
    "id": "CPO1okdXDGwE"
   },
   "source": [
    "###  d) INDEX: NASDAQ INDEX (NASX)"
   ]
  },
  {
   "cell_type": "code",
   "execution_count": 506,
   "metadata": {
    "colab": {
     "base_uri": "https://localhost:8080/"
    },
    "executionInfo": {
     "elapsed": 11,
     "status": "ok",
     "timestamp": 1657051005179,
     "user": {
      "displayName": "Juan Bautista",
      "userId": "05706855501987576761"
     },
     "user_tz": 420
    },
    "id": "bA_lIJxY-9vs",
    "outputId": "03a0168d-d1d3-48ae-b01a-024c8ec5e665"
   },
   "outputs": [
    {
     "data": {
      "text/plain": [
       "(15622, 9)"
      ]
     },
     "execution_count": 506,
     "metadata": {},
     "output_type": "execute_result"
    }
   ],
   "source": [
    "file = 'index/nasx_intraday-15min_historical-data.csv'\n",
    "nasx = pd.read_csv(path+file)\n",
    "nasx.shape"
   ]
  },
  {
   "cell_type": "code",
   "execution_count": 507,
   "metadata": {
    "executionInfo": {
     "elapsed": 8,
     "status": "ok",
     "timestamp": 1657051005179,
     "user": {
      "displayName": "Juan Bautista",
      "userId": "05706855501987576761"
     },
     "user_tz": 420
    },
    "id": "PTo2c_yq-9vt"
   },
   "outputs": [],
   "source": [
    "#Formating Date/Time\n",
    "nasx['DATETIME']    = pd.to_datetime(nasx['Time'], format='%Y-%m-%d %H:%M:%S', errors='ignore')\n",
    "\n",
    "#Dropping extra columns\n",
    "nasx.drop(columns=['Unnamed: 0'], inplace=True)\n",
    "nasx.drop(columns=['Open'], inplace=True)\n",
    "nasx.drop(columns=['High'], inplace=True)\n",
    "nasx.drop(columns=['Low'], inplace=True)\n",
    "nasx.drop(columns=['Change'], inplace=True)\n",
    "nasx.drop(columns=['%Chg'], inplace=True)\n",
    "nasx.drop(columns=['Time'], inplace=True)\n",
    "nasx.drop(columns=['Volume'], inplace=True)\n",
    "\n",
    "#Renaming columns\n",
    "nasx.rename(columns={'Last': 'NASX_PRICE'}, inplace=True)"
   ]
  },
  {
   "cell_type": "code",
   "execution_count": 508,
   "metadata": {
    "executionInfo": {
     "elapsed": 7,
     "status": "ok",
     "timestamp": 1657051005179,
     "user": {
      "displayName": "Juan Bautista",
      "userId": "05706855501987576761"
     },
     "user_tz": 420
    },
    "id": "yOlH8b4o-9vt"
   },
   "outputs": [],
   "source": [
    "index = ['DATETIME', 'NASX_PRICE']\n",
    "nasx = nasx.reindex(columns = index)\n",
    "nasx.sort_values(by = 'DATETIME', ascending = True, inplace = True)\n",
    "nasx = nasx.reset_index(drop=True)"
   ]
  },
  {
   "cell_type": "code",
   "execution_count": 509,
   "metadata": {
    "colab": {
     "base_uri": "https://localhost:8080/",
     "height": 206
    },
    "executionInfo": {
     "elapsed": 7,
     "status": "ok",
     "timestamp": 1657051005179,
     "user": {
      "displayName": "Juan Bautista",
      "userId": "05706855501987576761"
     },
     "user_tz": 420
    },
    "id": "bRVjh_OKAN27",
    "outputId": "dff972f0-e691-4ca4-a244-31170e5746d4"
   },
   "outputs": [
    {
     "data": {
      "text/html": [
       "\n",
       "  <div id=\"df-7a6cace7-d6de-4b8f-a0e8-cfb623380326\">\n",
       "    <div class=\"colab-df-container\">\n",
       "      <div>\n",
       "<style scoped>\n",
       "    .dataframe tbody tr th:only-of-type {\n",
       "        vertical-align: middle;\n",
       "    }\n",
       "\n",
       "    .dataframe tbody tr th {\n",
       "        vertical-align: top;\n",
       "    }\n",
       "\n",
       "    .dataframe thead th {\n",
       "        text-align: right;\n",
       "    }\n",
       "</style>\n",
       "<table border=\"1\" class=\"dataframe\">\n",
       "  <thead>\n",
       "    <tr style=\"text-align: right;\">\n",
       "      <th></th>\n",
       "      <th>DATETIME</th>\n",
       "      <th>NASX_PRICE</th>\n",
       "    </tr>\n",
       "  </thead>\n",
       "  <tbody>\n",
       "    <tr>\n",
       "      <th>0</th>\n",
       "      <td>2020-06-01 09:30:00</td>\n",
       "      <td>9505.40</td>\n",
       "    </tr>\n",
       "    <tr>\n",
       "      <th>1</th>\n",
       "      <td>2020-06-01 09:45:00</td>\n",
       "      <td>9502.91</td>\n",
       "    </tr>\n",
       "    <tr>\n",
       "      <th>2</th>\n",
       "      <td>2020-06-01 10:00:00</td>\n",
       "      <td>9521.96</td>\n",
       "    </tr>\n",
       "    <tr>\n",
       "      <th>3</th>\n",
       "      <td>2020-06-01 10:15:00</td>\n",
       "      <td>9526.87</td>\n",
       "    </tr>\n",
       "    <tr>\n",
       "      <th>4</th>\n",
       "      <td>2020-06-01 10:30:00</td>\n",
       "      <td>9535.28</td>\n",
       "    </tr>\n",
       "  </tbody>\n",
       "</table>\n",
       "</div>\n",
       "      <button class=\"colab-df-convert\" onclick=\"convertToInteractive('df-7a6cace7-d6de-4b8f-a0e8-cfb623380326')\"\n",
       "              title=\"Convert this dataframe to an interactive table.\"\n",
       "              style=\"display:none;\">\n",
       "        \n",
       "  <svg xmlns=\"http://www.w3.org/2000/svg\" height=\"24px\"viewBox=\"0 0 24 24\"\n",
       "       width=\"24px\">\n",
       "    <path d=\"M0 0h24v24H0V0z\" fill=\"none\"/>\n",
       "    <path d=\"M18.56 5.44l.94 2.06.94-2.06 2.06-.94-2.06-.94-.94-2.06-.94 2.06-2.06.94zm-11 1L8.5 8.5l.94-2.06 2.06-.94-2.06-.94L8.5 2.5l-.94 2.06-2.06.94zm10 10l.94 2.06.94-2.06 2.06-.94-2.06-.94-.94-2.06-.94 2.06-2.06.94z\"/><path d=\"M17.41 7.96l-1.37-1.37c-.4-.4-.92-.59-1.43-.59-.52 0-1.04.2-1.43.59L10.3 9.45l-7.72 7.72c-.78.78-.78 2.05 0 2.83L4 21.41c.39.39.9.59 1.41.59.51 0 1.02-.2 1.41-.59l7.78-7.78 2.81-2.81c.8-.78.8-2.07 0-2.86zM5.41 20L4 18.59l7.72-7.72 1.47 1.35L5.41 20z\"/>\n",
       "  </svg>\n",
       "      </button>\n",
       "      \n",
       "  <style>\n",
       "    .colab-df-container {\n",
       "      display:flex;\n",
       "      flex-wrap:wrap;\n",
       "      gap: 12px;\n",
       "    }\n",
       "\n",
       "    .colab-df-convert {\n",
       "      background-color: #E8F0FE;\n",
       "      border: none;\n",
       "      border-radius: 50%;\n",
       "      cursor: pointer;\n",
       "      display: none;\n",
       "      fill: #1967D2;\n",
       "      height: 32px;\n",
       "      padding: 0 0 0 0;\n",
       "      width: 32px;\n",
       "    }\n",
       "\n",
       "    .colab-df-convert:hover {\n",
       "      background-color: #E2EBFA;\n",
       "      box-shadow: 0px 1px 2px rgba(60, 64, 67, 0.3), 0px 1px 3px 1px rgba(60, 64, 67, 0.15);\n",
       "      fill: #174EA6;\n",
       "    }\n",
       "\n",
       "    [theme=dark] .colab-df-convert {\n",
       "      background-color: #3B4455;\n",
       "      fill: #D2E3FC;\n",
       "    }\n",
       "\n",
       "    [theme=dark] .colab-df-convert:hover {\n",
       "      background-color: #434B5C;\n",
       "      box-shadow: 0px 1px 3px 1px rgba(0, 0, 0, 0.15);\n",
       "      filter: drop-shadow(0px 1px 2px rgba(0, 0, 0, 0.3));\n",
       "      fill: #FFFFFF;\n",
       "    }\n",
       "  </style>\n",
       "\n",
       "      <script>\n",
       "        const buttonEl =\n",
       "          document.querySelector('#df-7a6cace7-d6de-4b8f-a0e8-cfb623380326 button.colab-df-convert');\n",
       "        buttonEl.style.display =\n",
       "          google.colab.kernel.accessAllowed ? 'block' : 'none';\n",
       "\n",
       "        async function convertToInteractive(key) {\n",
       "          const element = document.querySelector('#df-7a6cace7-d6de-4b8f-a0e8-cfb623380326');\n",
       "          const dataTable =\n",
       "            await google.colab.kernel.invokeFunction('convertToInteractive',\n",
       "                                                     [key], {});\n",
       "          if (!dataTable) return;\n",
       "\n",
       "          const docLinkHtml = 'Like what you see? Visit the ' +\n",
       "            '<a target=\"_blank\" href=https://colab.research.google.com/notebooks/data_table.ipynb>data table notebook</a>'\n",
       "            + ' to learn more about interactive tables.';\n",
       "          element.innerHTML = '';\n",
       "          dataTable['output_type'] = 'display_data';\n",
       "          await google.colab.output.renderOutput(dataTable, element);\n",
       "          const docLink = document.createElement('div');\n",
       "          docLink.innerHTML = docLinkHtml;\n",
       "          element.appendChild(docLink);\n",
       "        }\n",
       "      </script>\n",
       "    </div>\n",
       "  </div>\n",
       "  "
      ],
      "text/plain": [
       "             DATETIME  NASX_PRICE\n",
       "0 2020-06-01 09:30:00     9505.40\n",
       "1 2020-06-01 09:45:00     9502.91\n",
       "2 2020-06-01 10:00:00     9521.96\n",
       "3 2020-06-01 10:15:00     9526.87\n",
       "4 2020-06-01 10:30:00     9535.28"
      ]
     },
     "execution_count": 509,
     "metadata": {},
     "output_type": "execute_result"
    }
   ],
   "source": [
    "nasx.head()"
   ]
  },
  {
   "cell_type": "code",
   "execution_count": 509,
   "metadata": {
    "executionInfo": {
     "elapsed": 7,
     "status": "ok",
     "timestamp": 1657051005179,
     "user": {
      "displayName": "Juan Bautista",
      "userId": "05706855501987576761"
     },
     "user_tz": 420
    },
    "id": "i0SHc23WAN0g"
   },
   "outputs": [],
   "source": []
  },
  {
   "cell_type": "markdown",
   "metadata": {
    "id": "TIor9N-LFyHU"
   },
   "source": [
    "###  e) INDEX: S&P 500 INDEX (INX)"
   ]
  },
  {
   "cell_type": "code",
   "execution_count": 510,
   "metadata": {
    "colab": {
     "base_uri": "https://localhost:8080/"
    },
    "executionInfo": {
     "elapsed": 192,
     "status": "ok",
     "timestamp": 1657051005364,
     "user": {
      "displayName": "Juan Bautista",
      "userId": "05706855501987576761"
     },
     "user_tz": 420
    },
    "id": "J-WjCAewFyHV",
    "outputId": "9577154d-e7fb-4aaa-afb1-ba1e0a2e707a"
   },
   "outputs": [
    {
     "data": {
      "text/plain": [
       "(14615, 9)"
      ]
     },
     "execution_count": 510,
     "metadata": {},
     "output_type": "execute_result"
    }
   ],
   "source": [
    "file = 'index/inx_intraday-15min_historical-data.csv'\n",
    "inx = pd.read_csv(path+file)\n",
    "inx.shape"
   ]
  },
  {
   "cell_type": "code",
   "execution_count": 511,
   "metadata": {
    "executionInfo": {
     "elapsed": 6,
     "status": "ok",
     "timestamp": 1657051005364,
     "user": {
      "displayName": "Juan Bautista",
      "userId": "05706855501987576761"
     },
     "user_tz": 420
    },
    "id": "k5pKMrtSFyHW"
   },
   "outputs": [],
   "source": [
    "#Formating Date/Time\n",
    "inx['DATETIME']    = pd.to_datetime(inx['Time'], format='%Y-%m-%d %H:%M:%S', errors='ignore')\n",
    "\n",
    "#Dropping extra columns\n",
    "inx.drop(columns=['Unnamed: 0'], inplace=True)\n",
    "inx.drop(columns=['Open'], inplace=True)\n",
    "inx.drop(columns=['High'], inplace=True)\n",
    "inx.drop(columns=['Low'], inplace=True)\n",
    "inx.drop(columns=['Change'], inplace=True)\n",
    "inx.drop(columns=['%Chg'], inplace=True)\n",
    "inx.drop(columns=['Time'], inplace=True)\n",
    "inx.drop(columns=['Volume'], inplace=True)\n",
    "\n",
    "#Renaming columns\n",
    "inx.rename(columns={'Last': 'INX_PRICE'}, inplace=True)"
   ]
  },
  {
   "cell_type": "code",
   "execution_count": 512,
   "metadata": {
    "executionInfo": {
     "elapsed": 7,
     "status": "ok",
     "timestamp": 1657051005365,
     "user": {
      "displayName": "Juan Bautista",
      "userId": "05706855501987576761"
     },
     "user_tz": 420
    },
    "id": "q1-uYjarFyHW"
   },
   "outputs": [],
   "source": [
    "index = ['DATETIME', 'INX_PRICE']\n",
    "inx = inx.reindex(columns = index)\n",
    "inx.sort_values(by = 'DATETIME', ascending = True, inplace = True)\n",
    "inx = inx.reset_index(drop=True)"
   ]
  },
  {
   "cell_type": "code",
   "execution_count": 513,
   "metadata": {
    "colab": {
     "base_uri": "https://localhost:8080/",
     "height": 206
    },
    "executionInfo": {
     "elapsed": 7,
     "status": "ok",
     "timestamp": 1657051005365,
     "user": {
      "displayName": "Juan Bautista",
      "userId": "05706855501987576761"
     },
     "user_tz": 420
    },
    "id": "9w-yyRK4FyHW",
    "outputId": "1dc4d19e-55c3-49ca-c057-ad62996e1ec4"
   },
   "outputs": [
    {
     "data": {
      "text/html": [
       "\n",
       "  <div id=\"df-f777a1c1-068f-4883-8e6a-f22a00fa3626\">\n",
       "    <div class=\"colab-df-container\">\n",
       "      <div>\n",
       "<style scoped>\n",
       "    .dataframe tbody tr th:only-of-type {\n",
       "        vertical-align: middle;\n",
       "    }\n",
       "\n",
       "    .dataframe tbody tr th {\n",
       "        vertical-align: top;\n",
       "    }\n",
       "\n",
       "    .dataframe thead th {\n",
       "        text-align: right;\n",
       "    }\n",
       "</style>\n",
       "<table border=\"1\" class=\"dataframe\">\n",
       "  <thead>\n",
       "    <tr style=\"text-align: right;\">\n",
       "      <th></th>\n",
       "      <th>DATETIME</th>\n",
       "      <th>INX_PRICE</th>\n",
       "    </tr>\n",
       "  </thead>\n",
       "  <tbody>\n",
       "    <tr>\n",
       "      <th>0</th>\n",
       "      <td>2020-06-01 09:30:00</td>\n",
       "      <td>3042.51</td>\n",
       "    </tr>\n",
       "    <tr>\n",
       "      <th>1</th>\n",
       "      <td>2020-06-01 09:45:00</td>\n",
       "      <td>3041.97</td>\n",
       "    </tr>\n",
       "    <tr>\n",
       "      <th>2</th>\n",
       "      <td>2020-06-01 10:00:00</td>\n",
       "      <td>3048.15</td>\n",
       "    </tr>\n",
       "    <tr>\n",
       "      <th>3</th>\n",
       "      <td>2020-06-01 10:15:00</td>\n",
       "      <td>3050.03</td>\n",
       "    </tr>\n",
       "    <tr>\n",
       "      <th>4</th>\n",
       "      <td>2020-06-01 10:30:00</td>\n",
       "      <td>3052.49</td>\n",
       "    </tr>\n",
       "  </tbody>\n",
       "</table>\n",
       "</div>\n",
       "      <button class=\"colab-df-convert\" onclick=\"convertToInteractive('df-f777a1c1-068f-4883-8e6a-f22a00fa3626')\"\n",
       "              title=\"Convert this dataframe to an interactive table.\"\n",
       "              style=\"display:none;\">\n",
       "        \n",
       "  <svg xmlns=\"http://www.w3.org/2000/svg\" height=\"24px\"viewBox=\"0 0 24 24\"\n",
       "       width=\"24px\">\n",
       "    <path d=\"M0 0h24v24H0V0z\" fill=\"none\"/>\n",
       "    <path d=\"M18.56 5.44l.94 2.06.94-2.06 2.06-.94-2.06-.94-.94-2.06-.94 2.06-2.06.94zm-11 1L8.5 8.5l.94-2.06 2.06-.94-2.06-.94L8.5 2.5l-.94 2.06-2.06.94zm10 10l.94 2.06.94-2.06 2.06-.94-2.06-.94-.94-2.06-.94 2.06-2.06.94z\"/><path d=\"M17.41 7.96l-1.37-1.37c-.4-.4-.92-.59-1.43-.59-.52 0-1.04.2-1.43.59L10.3 9.45l-7.72 7.72c-.78.78-.78 2.05 0 2.83L4 21.41c.39.39.9.59 1.41.59.51 0 1.02-.2 1.41-.59l7.78-7.78 2.81-2.81c.8-.78.8-2.07 0-2.86zM5.41 20L4 18.59l7.72-7.72 1.47 1.35L5.41 20z\"/>\n",
       "  </svg>\n",
       "      </button>\n",
       "      \n",
       "  <style>\n",
       "    .colab-df-container {\n",
       "      display:flex;\n",
       "      flex-wrap:wrap;\n",
       "      gap: 12px;\n",
       "    }\n",
       "\n",
       "    .colab-df-convert {\n",
       "      background-color: #E8F0FE;\n",
       "      border: none;\n",
       "      border-radius: 50%;\n",
       "      cursor: pointer;\n",
       "      display: none;\n",
       "      fill: #1967D2;\n",
       "      height: 32px;\n",
       "      padding: 0 0 0 0;\n",
       "      width: 32px;\n",
       "    }\n",
       "\n",
       "    .colab-df-convert:hover {\n",
       "      background-color: #E2EBFA;\n",
       "      box-shadow: 0px 1px 2px rgba(60, 64, 67, 0.3), 0px 1px 3px 1px rgba(60, 64, 67, 0.15);\n",
       "      fill: #174EA6;\n",
       "    }\n",
       "\n",
       "    [theme=dark] .colab-df-convert {\n",
       "      background-color: #3B4455;\n",
       "      fill: #D2E3FC;\n",
       "    }\n",
       "\n",
       "    [theme=dark] .colab-df-convert:hover {\n",
       "      background-color: #434B5C;\n",
       "      box-shadow: 0px 1px 3px 1px rgba(0, 0, 0, 0.15);\n",
       "      filter: drop-shadow(0px 1px 2px rgba(0, 0, 0, 0.3));\n",
       "      fill: #FFFFFF;\n",
       "    }\n",
       "  </style>\n",
       "\n",
       "      <script>\n",
       "        const buttonEl =\n",
       "          document.querySelector('#df-f777a1c1-068f-4883-8e6a-f22a00fa3626 button.colab-df-convert');\n",
       "        buttonEl.style.display =\n",
       "          google.colab.kernel.accessAllowed ? 'block' : 'none';\n",
       "\n",
       "        async function convertToInteractive(key) {\n",
       "          const element = document.querySelector('#df-f777a1c1-068f-4883-8e6a-f22a00fa3626');\n",
       "          const dataTable =\n",
       "            await google.colab.kernel.invokeFunction('convertToInteractive',\n",
       "                                                     [key], {});\n",
       "          if (!dataTable) return;\n",
       "\n",
       "          const docLinkHtml = 'Like what you see? Visit the ' +\n",
       "            '<a target=\"_blank\" href=https://colab.research.google.com/notebooks/data_table.ipynb>data table notebook</a>'\n",
       "            + ' to learn more about interactive tables.';\n",
       "          element.innerHTML = '';\n",
       "          dataTable['output_type'] = 'display_data';\n",
       "          await google.colab.output.renderOutput(dataTable, element);\n",
       "          const docLink = document.createElement('div');\n",
       "          docLink.innerHTML = docLinkHtml;\n",
       "          element.appendChild(docLink);\n",
       "        }\n",
       "      </script>\n",
       "    </div>\n",
       "  </div>\n",
       "  "
      ],
      "text/plain": [
       "             DATETIME  INX_PRICE\n",
       "0 2020-06-01 09:30:00    3042.51\n",
       "1 2020-06-01 09:45:00    3041.97\n",
       "2 2020-06-01 10:00:00    3048.15\n",
       "3 2020-06-01 10:15:00    3050.03\n",
       "4 2020-06-01 10:30:00    3052.49"
      ]
     },
     "execution_count": 513,
     "metadata": {},
     "output_type": "execute_result"
    }
   ],
   "source": [
    "inx.head()"
   ]
  },
  {
   "cell_type": "code",
   "execution_count": 513,
   "metadata": {
    "executionInfo": {
     "elapsed": 6,
     "status": "ok",
     "timestamp": 1657051005365,
     "user": {
      "displayName": "Juan Bautista",
      "userId": "05706855501987576761"
     },
     "user_tz": 420
    },
    "id": "cc5xL6e5JKpd"
   },
   "outputs": [],
   "source": []
  },
  {
   "cell_type": "markdown",
   "metadata": {
    "id": "AkWmoLpjI_aU"
   },
   "source": [
    "###  f) STOCK: FACEBOOK STOCK (FB)"
   ]
  },
  {
   "cell_type": "code",
   "execution_count": 514,
   "metadata": {
    "colab": {
     "base_uri": "https://localhost:8080/"
    },
    "executionInfo": {
     "elapsed": 6,
     "status": "ok",
     "timestamp": 1657051005365,
     "user": {
      "displayName": "Juan Bautista",
      "userId": "05706855501987576761"
     },
     "user_tz": 420
    },
    "id": "m3aENgnQI_ad",
    "outputId": "cbc1552d-3a07-477c-9c29-48e648f03e83"
   },
   "outputs": [
    {
     "data": {
      "text/plain": [
       "(30147, 10)"
      ]
     },
     "execution_count": 514,
     "metadata": {},
     "output_type": "execute_result"
    }
   ],
   "source": [
    "file = 'stock/FB.csv'\n",
    "fb = pd.read_csv(path+file)\n",
    "fb.shape"
   ]
  },
  {
   "cell_type": "code",
   "execution_count": 515,
   "metadata": {
    "executionInfo": {
     "elapsed": 207,
     "status": "ok",
     "timestamp": 1657051005569,
     "user": {
      "displayName": "Juan Bautista",
      "userId": "05706855501987576761"
     },
     "user_tz": 420
    },
    "id": "M5-QaUWmI_ad"
   },
   "outputs": [],
   "source": [
    "#Formating Date/Time\n",
    "fb['DATETIME']    = pd.to_datetime(fb.date.str[0:-6], format='%Y-%m-%d %H:%M:%S', errors='ignore')\n",
    "\n",
    "#Dropping extra columns\n",
    "fb.drop(columns=['Unnamed: 0'], inplace=True)\n",
    "fb.drop(columns=['open'], inplace=True)\n",
    "fb.drop(columns=['high'], inplace=True)\n",
    "fb.drop(columns=['low'], inplace=True)\n",
    "fb.drop(columns=['vwap'], inplace=True)\n",
    "fb.drop(columns=['timestamp'], inplace=True)\n",
    "fb.drop(columns=['transactions'], inplace=True)\n",
    "fb.drop(columns=['volume'], inplace=True)\n",
    "\n",
    "#Renaming columns\n",
    "fb.rename(columns={'close': 'FB_PRICE'}, inplace=True)"
   ]
  },
  {
   "cell_type": "code",
   "execution_count": 516,
   "metadata": {
    "executionInfo": {
     "elapsed": 6,
     "status": "ok",
     "timestamp": 1657051005570,
     "user": {
      "displayName": "Juan Bautista",
      "userId": "05706855501987576761"
     },
     "user_tz": 420
    },
    "id": "1Jo3SfpsI_ad"
   },
   "outputs": [],
   "source": [
    "index = ['DATETIME', 'FB_PRICE']\n",
    "fb = fb.reindex(columns = index)\n",
    "fb.sort_values(by = 'DATETIME', ascending = True, inplace = True)\n",
    "fb = fb.reset_index(drop=True)"
   ]
  },
  {
   "cell_type": "code",
   "execution_count": 517,
   "metadata": {
    "colab": {
     "base_uri": "https://localhost:8080/",
     "height": 206
    },
    "executionInfo": {
     "elapsed": 6,
     "status": "ok",
     "timestamp": 1657051005570,
     "user": {
      "displayName": "Juan Bautista",
      "userId": "05706855501987576761"
     },
     "user_tz": 420
    },
    "id": "RJ0zuncJI_ae",
    "outputId": "1a97b8c0-366f-4755-cec9-d2319718fa8e"
   },
   "outputs": [
    {
     "data": {
      "text/html": [
       "\n",
       "  <div id=\"df-bfa79d31-f70f-4e47-a1ff-e554b68e8c17\">\n",
       "    <div class=\"colab-df-container\">\n",
       "      <div>\n",
       "<style scoped>\n",
       "    .dataframe tbody tr th:only-of-type {\n",
       "        vertical-align: middle;\n",
       "    }\n",
       "\n",
       "    .dataframe tbody tr th {\n",
       "        vertical-align: top;\n",
       "    }\n",
       "\n",
       "    .dataframe thead th {\n",
       "        text-align: right;\n",
       "    }\n",
       "</style>\n",
       "<table border=\"1\" class=\"dataframe\">\n",
       "  <thead>\n",
       "    <tr style=\"text-align: right;\">\n",
       "      <th></th>\n",
       "      <th>DATETIME</th>\n",
       "      <th>FB_PRICE</th>\n",
       "    </tr>\n",
       "  </thead>\n",
       "  <tbody>\n",
       "    <tr>\n",
       "      <th>0</th>\n",
       "      <td>2020-06-01 04:00:00</td>\n",
       "      <td>223.70</td>\n",
       "    </tr>\n",
       "    <tr>\n",
       "      <th>1</th>\n",
       "      <td>2020-06-01 04:15:00</td>\n",
       "      <td>223.38</td>\n",
       "    </tr>\n",
       "    <tr>\n",
       "      <th>2</th>\n",
       "      <td>2020-06-01 04:30:00</td>\n",
       "      <td>224.00</td>\n",
       "    </tr>\n",
       "    <tr>\n",
       "      <th>3</th>\n",
       "      <td>2020-06-01 04:45:00</td>\n",
       "      <td>224.11</td>\n",
       "    </tr>\n",
       "    <tr>\n",
       "      <th>4</th>\n",
       "      <td>2020-06-01 05:00:00</td>\n",
       "      <td>224.00</td>\n",
       "    </tr>\n",
       "  </tbody>\n",
       "</table>\n",
       "</div>\n",
       "      <button class=\"colab-df-convert\" onclick=\"convertToInteractive('df-bfa79d31-f70f-4e47-a1ff-e554b68e8c17')\"\n",
       "              title=\"Convert this dataframe to an interactive table.\"\n",
       "              style=\"display:none;\">\n",
       "        \n",
       "  <svg xmlns=\"http://www.w3.org/2000/svg\" height=\"24px\"viewBox=\"0 0 24 24\"\n",
       "       width=\"24px\">\n",
       "    <path d=\"M0 0h24v24H0V0z\" fill=\"none\"/>\n",
       "    <path d=\"M18.56 5.44l.94 2.06.94-2.06 2.06-.94-2.06-.94-.94-2.06-.94 2.06-2.06.94zm-11 1L8.5 8.5l.94-2.06 2.06-.94-2.06-.94L8.5 2.5l-.94 2.06-2.06.94zm10 10l.94 2.06.94-2.06 2.06-.94-2.06-.94-.94-2.06-.94 2.06-2.06.94z\"/><path d=\"M17.41 7.96l-1.37-1.37c-.4-.4-.92-.59-1.43-.59-.52 0-1.04.2-1.43.59L10.3 9.45l-7.72 7.72c-.78.78-.78 2.05 0 2.83L4 21.41c.39.39.9.59 1.41.59.51 0 1.02-.2 1.41-.59l7.78-7.78 2.81-2.81c.8-.78.8-2.07 0-2.86zM5.41 20L4 18.59l7.72-7.72 1.47 1.35L5.41 20z\"/>\n",
       "  </svg>\n",
       "      </button>\n",
       "      \n",
       "  <style>\n",
       "    .colab-df-container {\n",
       "      display:flex;\n",
       "      flex-wrap:wrap;\n",
       "      gap: 12px;\n",
       "    }\n",
       "\n",
       "    .colab-df-convert {\n",
       "      background-color: #E8F0FE;\n",
       "      border: none;\n",
       "      border-radius: 50%;\n",
       "      cursor: pointer;\n",
       "      display: none;\n",
       "      fill: #1967D2;\n",
       "      height: 32px;\n",
       "      padding: 0 0 0 0;\n",
       "      width: 32px;\n",
       "    }\n",
       "\n",
       "    .colab-df-convert:hover {\n",
       "      background-color: #E2EBFA;\n",
       "      box-shadow: 0px 1px 2px rgba(60, 64, 67, 0.3), 0px 1px 3px 1px rgba(60, 64, 67, 0.15);\n",
       "      fill: #174EA6;\n",
       "    }\n",
       "\n",
       "    [theme=dark] .colab-df-convert {\n",
       "      background-color: #3B4455;\n",
       "      fill: #D2E3FC;\n",
       "    }\n",
       "\n",
       "    [theme=dark] .colab-df-convert:hover {\n",
       "      background-color: #434B5C;\n",
       "      box-shadow: 0px 1px 3px 1px rgba(0, 0, 0, 0.15);\n",
       "      filter: drop-shadow(0px 1px 2px rgba(0, 0, 0, 0.3));\n",
       "      fill: #FFFFFF;\n",
       "    }\n",
       "  </style>\n",
       "\n",
       "      <script>\n",
       "        const buttonEl =\n",
       "          document.querySelector('#df-bfa79d31-f70f-4e47-a1ff-e554b68e8c17 button.colab-df-convert');\n",
       "        buttonEl.style.display =\n",
       "          google.colab.kernel.accessAllowed ? 'block' : 'none';\n",
       "\n",
       "        async function convertToInteractive(key) {\n",
       "          const element = document.querySelector('#df-bfa79d31-f70f-4e47-a1ff-e554b68e8c17');\n",
       "          const dataTable =\n",
       "            await google.colab.kernel.invokeFunction('convertToInteractive',\n",
       "                                                     [key], {});\n",
       "          if (!dataTable) return;\n",
       "\n",
       "          const docLinkHtml = 'Like what you see? Visit the ' +\n",
       "            '<a target=\"_blank\" href=https://colab.research.google.com/notebooks/data_table.ipynb>data table notebook</a>'\n",
       "            + ' to learn more about interactive tables.';\n",
       "          element.innerHTML = '';\n",
       "          dataTable['output_type'] = 'display_data';\n",
       "          await google.colab.output.renderOutput(dataTable, element);\n",
       "          const docLink = document.createElement('div');\n",
       "          docLink.innerHTML = docLinkHtml;\n",
       "          element.appendChild(docLink);\n",
       "        }\n",
       "      </script>\n",
       "    </div>\n",
       "  </div>\n",
       "  "
      ],
      "text/plain": [
       "             DATETIME  FB_PRICE\n",
       "0 2020-06-01 04:00:00    223.70\n",
       "1 2020-06-01 04:15:00    223.38\n",
       "2 2020-06-01 04:30:00    224.00\n",
       "3 2020-06-01 04:45:00    224.11\n",
       "4 2020-06-01 05:00:00    224.00"
      ]
     },
     "execution_count": 517,
     "metadata": {},
     "output_type": "execute_result"
    }
   ],
   "source": [
    "fb.head()"
   ]
  },
  {
   "cell_type": "code",
   "execution_count": 517,
   "metadata": {
    "executionInfo": {
     "elapsed": 5,
     "status": "ok",
     "timestamp": 1657051005570,
     "user": {
      "displayName": "Juan Bautista",
      "userId": "05706855501987576761"
     },
     "user_tz": 420
    },
    "id": "I3119E9gANvE"
   },
   "outputs": [],
   "source": []
  },
  {
   "cell_type": "markdown",
   "metadata": {
    "id": "D_97d_7DKuny"
   },
   "source": [
    "###  g) STOCK: GOOGLE STOCK (GOOG)"
   ]
  },
  {
   "cell_type": "code",
   "execution_count": 518,
   "metadata": {
    "colab": {
     "base_uri": "https://localhost:8080/"
    },
    "executionInfo": {
     "elapsed": 5,
     "status": "ok",
     "timestamp": 1657051005570,
     "user": {
      "displayName": "Juan Bautista",
      "userId": "05706855501987576761"
     },
     "user_tz": 420
    },
    "id": "H0KfBRU6Kun6",
    "outputId": "b082dd9e-53ad-4311-ec4a-fedec96107da"
   },
   "outputs": [
    {
     "data": {
      "text/plain": [
       "(18195, 10)"
      ]
     },
     "execution_count": 518,
     "metadata": {},
     "output_type": "execute_result"
    }
   ],
   "source": [
    "file = 'stock/GOOG.csv'\n",
    "goog = pd.read_csv(path+file)\n",
    "goog.shape"
   ]
  },
  {
   "cell_type": "code",
   "execution_count": 519,
   "metadata": {
    "executionInfo": {
     "elapsed": 224,
     "status": "ok",
     "timestamp": 1657051005791,
     "user": {
      "displayName": "Juan Bautista",
      "userId": "05706855501987576761"
     },
     "user_tz": 420
    },
    "id": "n3hc9b7AKun7"
   },
   "outputs": [],
   "source": [
    "#Formating Date/Time\n",
    "goog['DATETIME']    = pd.to_datetime(goog.date.str[0:-6], format='%Y-%m-%d %H:%M:%S', errors='ignore')\n",
    "\n",
    "#Dropping extra columns\n",
    "goog.drop(columns=['Unnamed: 0'], inplace=True)\n",
    "goog.drop(columns=['open'], inplace=True)\n",
    "goog.drop(columns=['high'], inplace=True)\n",
    "goog.drop(columns=['low'], inplace=True)\n",
    "goog.drop(columns=['vwap'], inplace=True)\n",
    "goog.drop(columns=['timestamp'], inplace=True)\n",
    "goog.drop(columns=['transactions'], inplace=True)\n",
    "goog.drop(columns=['volume'], inplace=True)\n",
    "\n",
    "#Renaming columns\n",
    "goog.rename(columns={'close': 'GOOG_PRICE'}, inplace=True)"
   ]
  },
  {
   "cell_type": "code",
   "execution_count": 520,
   "metadata": {
    "executionInfo": {
     "elapsed": 7,
     "status": "ok",
     "timestamp": 1657051005791,
     "user": {
      "displayName": "Juan Bautista",
      "userId": "05706855501987576761"
     },
     "user_tz": 420
    },
    "id": "GH5bgkRiKun7"
   },
   "outputs": [],
   "source": [
    "index = ['DATETIME', 'GOOG_PRICE']\n",
    "goog = goog.reindex(columns = index)\n",
    "goog.sort_values(by = 'DATETIME', ascending = True, inplace = True)\n",
    "goog = goog.reset_index(drop=True)"
   ]
  },
  {
   "cell_type": "code",
   "execution_count": 521,
   "metadata": {
    "colab": {
     "base_uri": "https://localhost:8080/",
     "height": 206
    },
    "executionInfo": {
     "elapsed": 6,
     "status": "ok",
     "timestamp": 1657051005791,
     "user": {
      "displayName": "Juan Bautista",
      "userId": "05706855501987576761"
     },
     "user_tz": 420
    },
    "id": "S6BCVZabKun7",
    "outputId": "dc9240d1-62ba-4490-f6a0-20e625d661de"
   },
   "outputs": [
    {
     "data": {
      "text/html": [
       "\n",
       "  <div id=\"df-2c361853-fb46-44dc-bd2f-ce0191abfab5\">\n",
       "    <div class=\"colab-df-container\">\n",
       "      <div>\n",
       "<style scoped>\n",
       "    .dataframe tbody tr th:only-of-type {\n",
       "        vertical-align: middle;\n",
       "    }\n",
       "\n",
       "    .dataframe tbody tr th {\n",
       "        vertical-align: top;\n",
       "    }\n",
       "\n",
       "    .dataframe thead th {\n",
       "        text-align: right;\n",
       "    }\n",
       "</style>\n",
       "<table border=\"1\" class=\"dataframe\">\n",
       "  <thead>\n",
       "    <tr style=\"text-align: right;\">\n",
       "      <th></th>\n",
       "      <th>DATETIME</th>\n",
       "      <th>GOOG_PRICE</th>\n",
       "    </tr>\n",
       "  </thead>\n",
       "  <tbody>\n",
       "    <tr>\n",
       "      <th>0</th>\n",
       "      <td>2020-06-01 05:45:00</td>\n",
       "      <td>1424.16</td>\n",
       "    </tr>\n",
       "    <tr>\n",
       "      <th>1</th>\n",
       "      <td>2020-06-01 06:30:00</td>\n",
       "      <td>1420.00</td>\n",
       "    </tr>\n",
       "    <tr>\n",
       "      <th>2</th>\n",
       "      <td>2020-06-01 08:00:00</td>\n",
       "      <td>1422.64</td>\n",
       "    </tr>\n",
       "    <tr>\n",
       "      <th>3</th>\n",
       "      <td>2020-06-01 09:15:00</td>\n",
       "      <td>1418.36</td>\n",
       "    </tr>\n",
       "    <tr>\n",
       "      <th>4</th>\n",
       "      <td>2020-06-01 09:30:00</td>\n",
       "      <td>1435.04</td>\n",
       "    </tr>\n",
       "  </tbody>\n",
       "</table>\n",
       "</div>\n",
       "      <button class=\"colab-df-convert\" onclick=\"convertToInteractive('df-2c361853-fb46-44dc-bd2f-ce0191abfab5')\"\n",
       "              title=\"Convert this dataframe to an interactive table.\"\n",
       "              style=\"display:none;\">\n",
       "        \n",
       "  <svg xmlns=\"http://www.w3.org/2000/svg\" height=\"24px\"viewBox=\"0 0 24 24\"\n",
       "       width=\"24px\">\n",
       "    <path d=\"M0 0h24v24H0V0z\" fill=\"none\"/>\n",
       "    <path d=\"M18.56 5.44l.94 2.06.94-2.06 2.06-.94-2.06-.94-.94-2.06-.94 2.06-2.06.94zm-11 1L8.5 8.5l.94-2.06 2.06-.94-2.06-.94L8.5 2.5l-.94 2.06-2.06.94zm10 10l.94 2.06.94-2.06 2.06-.94-2.06-.94-.94-2.06-.94 2.06-2.06.94z\"/><path d=\"M17.41 7.96l-1.37-1.37c-.4-.4-.92-.59-1.43-.59-.52 0-1.04.2-1.43.59L10.3 9.45l-7.72 7.72c-.78.78-.78 2.05 0 2.83L4 21.41c.39.39.9.59 1.41.59.51 0 1.02-.2 1.41-.59l7.78-7.78 2.81-2.81c.8-.78.8-2.07 0-2.86zM5.41 20L4 18.59l7.72-7.72 1.47 1.35L5.41 20z\"/>\n",
       "  </svg>\n",
       "      </button>\n",
       "      \n",
       "  <style>\n",
       "    .colab-df-container {\n",
       "      display:flex;\n",
       "      flex-wrap:wrap;\n",
       "      gap: 12px;\n",
       "    }\n",
       "\n",
       "    .colab-df-convert {\n",
       "      background-color: #E8F0FE;\n",
       "      border: none;\n",
       "      border-radius: 50%;\n",
       "      cursor: pointer;\n",
       "      display: none;\n",
       "      fill: #1967D2;\n",
       "      height: 32px;\n",
       "      padding: 0 0 0 0;\n",
       "      width: 32px;\n",
       "    }\n",
       "\n",
       "    .colab-df-convert:hover {\n",
       "      background-color: #E2EBFA;\n",
       "      box-shadow: 0px 1px 2px rgba(60, 64, 67, 0.3), 0px 1px 3px 1px rgba(60, 64, 67, 0.15);\n",
       "      fill: #174EA6;\n",
       "    }\n",
       "\n",
       "    [theme=dark] .colab-df-convert {\n",
       "      background-color: #3B4455;\n",
       "      fill: #D2E3FC;\n",
       "    }\n",
       "\n",
       "    [theme=dark] .colab-df-convert:hover {\n",
       "      background-color: #434B5C;\n",
       "      box-shadow: 0px 1px 3px 1px rgba(0, 0, 0, 0.15);\n",
       "      filter: drop-shadow(0px 1px 2px rgba(0, 0, 0, 0.3));\n",
       "      fill: #FFFFFF;\n",
       "    }\n",
       "  </style>\n",
       "\n",
       "      <script>\n",
       "        const buttonEl =\n",
       "          document.querySelector('#df-2c361853-fb46-44dc-bd2f-ce0191abfab5 button.colab-df-convert');\n",
       "        buttonEl.style.display =\n",
       "          google.colab.kernel.accessAllowed ? 'block' : 'none';\n",
       "\n",
       "        async function convertToInteractive(key) {\n",
       "          const element = document.querySelector('#df-2c361853-fb46-44dc-bd2f-ce0191abfab5');\n",
       "          const dataTable =\n",
       "            await google.colab.kernel.invokeFunction('convertToInteractive',\n",
       "                                                     [key], {});\n",
       "          if (!dataTable) return;\n",
       "\n",
       "          const docLinkHtml = 'Like what you see? Visit the ' +\n",
       "            '<a target=\"_blank\" href=https://colab.research.google.com/notebooks/data_table.ipynb>data table notebook</a>'\n",
       "            + ' to learn more about interactive tables.';\n",
       "          element.innerHTML = '';\n",
       "          dataTable['output_type'] = 'display_data';\n",
       "          await google.colab.output.renderOutput(dataTable, element);\n",
       "          const docLink = document.createElement('div');\n",
       "          docLink.innerHTML = docLinkHtml;\n",
       "          element.appendChild(docLink);\n",
       "        }\n",
       "      </script>\n",
       "    </div>\n",
       "  </div>\n",
       "  "
      ],
      "text/plain": [
       "             DATETIME  GOOG_PRICE\n",
       "0 2020-06-01 05:45:00     1424.16\n",
       "1 2020-06-01 06:30:00     1420.00\n",
       "2 2020-06-01 08:00:00     1422.64\n",
       "3 2020-06-01 09:15:00     1418.36\n",
       "4 2020-06-01 09:30:00     1435.04"
      ]
     },
     "execution_count": 521,
     "metadata": {},
     "output_type": "execute_result"
    }
   ],
   "source": [
    "goog.head()"
   ]
  },
  {
   "cell_type": "code",
   "execution_count": 521,
   "metadata": {
    "executionInfo": {
     "elapsed": 6,
     "status": "ok",
     "timestamp": 1657051005791,
     "user": {
      "displayName": "Juan Bautista",
      "userId": "05706855501987576761"
     },
     "user_tz": 420
    },
    "id": "KAc6r1hiANsc"
   },
   "outputs": [],
   "source": []
  },
  {
   "cell_type": "markdown",
   "metadata": {
    "id": "L8VdlW8SLVDM"
   },
   "source": [
    "###  h) STOCK: DISNEY STOCK (DIS)"
   ]
  },
  {
   "cell_type": "code",
   "execution_count": 522,
   "metadata": {
    "colab": {
     "base_uri": "https://localhost:8080/"
    },
    "executionInfo": {
     "elapsed": 5,
     "status": "ok",
     "timestamp": 1657051005791,
     "user": {
      "displayName": "Juan Bautista",
      "userId": "05706855501987576761"
     },
     "user_tz": 420
    },
    "id": "MoCYhLVGLVDN",
    "outputId": "5830695e-8765-4075-e19b-205e6ea4cc6e"
   },
   "outputs": [
    {
     "data": {
      "text/plain": [
       "(26806, 10)"
      ]
     },
     "execution_count": 522,
     "metadata": {},
     "output_type": "execute_result"
    }
   ],
   "source": [
    "file = 'stock/DIS.csv'\n",
    "dis = pd.read_csv(path+file)\n",
    "dis.shape"
   ]
  },
  {
   "cell_type": "code",
   "execution_count": 523,
   "metadata": {
    "executionInfo": {
     "elapsed": 3,
     "status": "ok",
     "timestamp": 1657051005791,
     "user": {
      "displayName": "Juan Bautista",
      "userId": "05706855501987576761"
     },
     "user_tz": 420
    },
    "id": "MbiLGogELVDN"
   },
   "outputs": [],
   "source": [
    "#Formating Date/Time\n",
    "dis['DATETIME']    = pd.to_datetime(dis.date.str[0:-6], format='%Y-%m-%d %H:%M:%S', errors='ignore')\n",
    "\n",
    "#Dropping extra columns\n",
    "dis.drop(columns=['Unnamed: 0'], inplace=True)\n",
    "dis.drop(columns=['open'], inplace=True)\n",
    "dis.drop(columns=['high'], inplace=True)\n",
    "dis.drop(columns=['low'], inplace=True)\n",
    "dis.drop(columns=['vwap'], inplace=True)\n",
    "dis.drop(columns=['timestamp'], inplace=True)\n",
    "dis.drop(columns=['transactions'], inplace=True)\n",
    "dis.drop(columns=['volume'], inplace=True)\n",
    "\n",
    "#Renaming columns\n",
    "dis.rename(columns={'close': 'DIS_PRICE'}, inplace=True)"
   ]
  },
  {
   "cell_type": "code",
   "execution_count": 524,
   "metadata": {
    "executionInfo": {
     "elapsed": 4,
     "status": "ok",
     "timestamp": 1657051005792,
     "user": {
      "displayName": "Juan Bautista",
      "userId": "05706855501987576761"
     },
     "user_tz": 420
    },
    "id": "km9Xg6uALVDN"
   },
   "outputs": [],
   "source": [
    "index = ['DATETIME', 'DIS_PRICE']\n",
    "dis = dis.reindex(columns = index)\n",
    "dis.sort_values(by = 'DATETIME', ascending = True, inplace = True)\n",
    "dis = dis.reset_index(drop=True)"
   ]
  },
  {
   "cell_type": "code",
   "execution_count": 525,
   "metadata": {
    "colab": {
     "base_uri": "https://localhost:8080/",
     "height": 206
    },
    "executionInfo": {
     "elapsed": 196,
     "status": "ok",
     "timestamp": 1657051005984,
     "user": {
      "displayName": "Juan Bautista",
      "userId": "05706855501987576761"
     },
     "user_tz": 420
    },
    "id": "ua1LCFM0LVDN",
    "outputId": "95c483a0-194a-46bf-a7c8-976ddf46ebfa"
   },
   "outputs": [
    {
     "data": {
      "text/html": [
       "\n",
       "  <div id=\"df-005c1bc6-9dc0-4a64-b90f-32d360035c6c\">\n",
       "    <div class=\"colab-df-container\">\n",
       "      <div>\n",
       "<style scoped>\n",
       "    .dataframe tbody tr th:only-of-type {\n",
       "        vertical-align: middle;\n",
       "    }\n",
       "\n",
       "    .dataframe tbody tr th {\n",
       "        vertical-align: top;\n",
       "    }\n",
       "\n",
       "    .dataframe thead th {\n",
       "        text-align: right;\n",
       "    }\n",
       "</style>\n",
       "<table border=\"1\" class=\"dataframe\">\n",
       "  <thead>\n",
       "    <tr style=\"text-align: right;\">\n",
       "      <th></th>\n",
       "      <th>DATETIME</th>\n",
       "      <th>DIS_PRICE</th>\n",
       "    </tr>\n",
       "  </thead>\n",
       "  <tbody>\n",
       "    <tr>\n",
       "      <th>0</th>\n",
       "      <td>2020-06-01 04:00:00</td>\n",
       "      <td>117.20</td>\n",
       "    </tr>\n",
       "    <tr>\n",
       "      <th>1</th>\n",
       "      <td>2020-06-01 04:15:00</td>\n",
       "      <td>117.01</td>\n",
       "    </tr>\n",
       "    <tr>\n",
       "      <th>2</th>\n",
       "      <td>2020-06-01 04:30:00</td>\n",
       "      <td>116.53</td>\n",
       "    </tr>\n",
       "    <tr>\n",
       "      <th>3</th>\n",
       "      <td>2020-06-01 05:15:00</td>\n",
       "      <td>116.84</td>\n",
       "    </tr>\n",
       "    <tr>\n",
       "      <th>4</th>\n",
       "      <td>2020-06-01 06:00:00</td>\n",
       "      <td>116.50</td>\n",
       "    </tr>\n",
       "  </tbody>\n",
       "</table>\n",
       "</div>\n",
       "      <button class=\"colab-df-convert\" onclick=\"convertToInteractive('df-005c1bc6-9dc0-4a64-b90f-32d360035c6c')\"\n",
       "              title=\"Convert this dataframe to an interactive table.\"\n",
       "              style=\"display:none;\">\n",
       "        \n",
       "  <svg xmlns=\"http://www.w3.org/2000/svg\" height=\"24px\"viewBox=\"0 0 24 24\"\n",
       "       width=\"24px\">\n",
       "    <path d=\"M0 0h24v24H0V0z\" fill=\"none\"/>\n",
       "    <path d=\"M18.56 5.44l.94 2.06.94-2.06 2.06-.94-2.06-.94-.94-2.06-.94 2.06-2.06.94zm-11 1L8.5 8.5l.94-2.06 2.06-.94-2.06-.94L8.5 2.5l-.94 2.06-2.06.94zm10 10l.94 2.06.94-2.06 2.06-.94-2.06-.94-.94-2.06-.94 2.06-2.06.94z\"/><path d=\"M17.41 7.96l-1.37-1.37c-.4-.4-.92-.59-1.43-.59-.52 0-1.04.2-1.43.59L10.3 9.45l-7.72 7.72c-.78.78-.78 2.05 0 2.83L4 21.41c.39.39.9.59 1.41.59.51 0 1.02-.2 1.41-.59l7.78-7.78 2.81-2.81c.8-.78.8-2.07 0-2.86zM5.41 20L4 18.59l7.72-7.72 1.47 1.35L5.41 20z\"/>\n",
       "  </svg>\n",
       "      </button>\n",
       "      \n",
       "  <style>\n",
       "    .colab-df-container {\n",
       "      display:flex;\n",
       "      flex-wrap:wrap;\n",
       "      gap: 12px;\n",
       "    }\n",
       "\n",
       "    .colab-df-convert {\n",
       "      background-color: #E8F0FE;\n",
       "      border: none;\n",
       "      border-radius: 50%;\n",
       "      cursor: pointer;\n",
       "      display: none;\n",
       "      fill: #1967D2;\n",
       "      height: 32px;\n",
       "      padding: 0 0 0 0;\n",
       "      width: 32px;\n",
       "    }\n",
       "\n",
       "    .colab-df-convert:hover {\n",
       "      background-color: #E2EBFA;\n",
       "      box-shadow: 0px 1px 2px rgba(60, 64, 67, 0.3), 0px 1px 3px 1px rgba(60, 64, 67, 0.15);\n",
       "      fill: #174EA6;\n",
       "    }\n",
       "\n",
       "    [theme=dark] .colab-df-convert {\n",
       "      background-color: #3B4455;\n",
       "      fill: #D2E3FC;\n",
       "    }\n",
       "\n",
       "    [theme=dark] .colab-df-convert:hover {\n",
       "      background-color: #434B5C;\n",
       "      box-shadow: 0px 1px 3px 1px rgba(0, 0, 0, 0.15);\n",
       "      filter: drop-shadow(0px 1px 2px rgba(0, 0, 0, 0.3));\n",
       "      fill: #FFFFFF;\n",
       "    }\n",
       "  </style>\n",
       "\n",
       "      <script>\n",
       "        const buttonEl =\n",
       "          document.querySelector('#df-005c1bc6-9dc0-4a64-b90f-32d360035c6c button.colab-df-convert');\n",
       "        buttonEl.style.display =\n",
       "          google.colab.kernel.accessAllowed ? 'block' : 'none';\n",
       "\n",
       "        async function convertToInteractive(key) {\n",
       "          const element = document.querySelector('#df-005c1bc6-9dc0-4a64-b90f-32d360035c6c');\n",
       "          const dataTable =\n",
       "            await google.colab.kernel.invokeFunction('convertToInteractive',\n",
       "                                                     [key], {});\n",
       "          if (!dataTable) return;\n",
       "\n",
       "          const docLinkHtml = 'Like what you see? Visit the ' +\n",
       "            '<a target=\"_blank\" href=https://colab.research.google.com/notebooks/data_table.ipynb>data table notebook</a>'\n",
       "            + ' to learn more about interactive tables.';\n",
       "          element.innerHTML = '';\n",
       "          dataTable['output_type'] = 'display_data';\n",
       "          await google.colab.output.renderOutput(dataTable, element);\n",
       "          const docLink = document.createElement('div');\n",
       "          docLink.innerHTML = docLinkHtml;\n",
       "          element.appendChild(docLink);\n",
       "        }\n",
       "      </script>\n",
       "    </div>\n",
       "  </div>\n",
       "  "
      ],
      "text/plain": [
       "             DATETIME  DIS_PRICE\n",
       "0 2020-06-01 04:00:00     117.20\n",
       "1 2020-06-01 04:15:00     117.01\n",
       "2 2020-06-01 04:30:00     116.53\n",
       "3 2020-06-01 05:15:00     116.84\n",
       "4 2020-06-01 06:00:00     116.50"
      ]
     },
     "execution_count": 525,
     "metadata": {},
     "output_type": "execute_result"
    }
   ],
   "source": [
    "dis.head()"
   ]
  },
  {
   "cell_type": "code",
   "execution_count": 525,
   "metadata": {
    "executionInfo": {
     "elapsed": 6,
     "status": "ok",
     "timestamp": 1657051005985,
     "user": {
      "displayName": "Juan Bautista",
      "userId": "05706855501987576761"
     },
     "user_tz": 420
    },
    "id": "65AE7HQOANnU"
   },
   "outputs": [],
   "source": []
  },
  {
   "cell_type": "markdown",
   "metadata": {
    "id": "jRRWa6gjgYZH"
   },
   "source": [
    "###  i) STOCK: TESLA STOCK (TSLA)"
   ]
  },
  {
   "cell_type": "code",
   "execution_count": 526,
   "metadata": {
    "colab": {
     "base_uri": "https://localhost:8080/"
    },
    "executionInfo": {
     "elapsed": 6,
     "status": "ok",
     "timestamp": 1657051005985,
     "user": {
      "displayName": "Juan Bautista",
      "userId": "05706855501987576761"
     },
     "user_tz": 420
    },
    "id": "xSKOJ-GJgYZJ",
    "outputId": "1a1aea74-d90e-4b31-f935-1a3511bd8c52"
   },
   "outputs": [
    {
     "data": {
      "text/plain": [
       "(31645, 10)"
      ]
     },
     "execution_count": 526,
     "metadata": {},
     "output_type": "execute_result"
    }
   ],
   "source": [
    "file = 'stock/TSLA.csv'\n",
    "tsla = pd.read_csv(path+file)\n",
    "tsla.shape"
   ]
  },
  {
   "cell_type": "code",
   "execution_count": 527,
   "metadata": {
    "executionInfo": {
     "elapsed": 4,
     "status": "ok",
     "timestamp": 1657051005985,
     "user": {
      "displayName": "Juan Bautista",
      "userId": "05706855501987576761"
     },
     "user_tz": 420
    },
    "id": "b29-nSNugYZK"
   },
   "outputs": [],
   "source": [
    "#Formating Date/Time\n",
    "tsla['DATETIME']    = pd.to_datetime(tsla.date.str[0:-6], format='%Y-%m-%d %H:%M:%S', errors='ignore')\n",
    "\n",
    "#Dropping extra columns\n",
    "tsla.drop(columns=['Unnamed: 0'], inplace=True)\n",
    "tsla.drop(columns=['open'], inplace=True)\n",
    "tsla.drop(columns=['high'], inplace=True)\n",
    "tsla.drop(columns=['low'], inplace=True)\n",
    "tsla.drop(columns=['vwap'], inplace=True)\n",
    "tsla.drop(columns=['timestamp'], inplace=True)\n",
    "tsla.drop(columns=['transactions'], inplace=True)\n",
    "tsla.drop(columns=['volume'], inplace=True)\n",
    "\n",
    "#Renaming columns\n",
    "tsla.rename(columns={'close': 'TSLA_PRICE'}, inplace=True)"
   ]
  },
  {
   "cell_type": "code",
   "execution_count": 528,
   "metadata": {
    "executionInfo": {
     "elapsed": 4,
     "status": "ok",
     "timestamp": 1657051005985,
     "user": {
      "displayName": "Juan Bautista",
      "userId": "05706855501987576761"
     },
     "user_tz": 420
    },
    "id": "VVxPhmkJgYZK"
   },
   "outputs": [],
   "source": [
    "index = ['DATETIME', 'TSLA_PRICE']\n",
    "tsla = tsla.reindex(columns = index)\n",
    "tsla.sort_values(by = 'DATETIME', ascending = True, inplace = True)\n",
    "tsla = tsla.reset_index(drop=True)"
   ]
  },
  {
   "cell_type": "code",
   "execution_count": 529,
   "metadata": {
    "colab": {
     "base_uri": "https://localhost:8080/",
     "height": 206
    },
    "executionInfo": {
     "elapsed": 183,
     "status": "ok",
     "timestamp": 1657051006164,
     "user": {
      "displayName": "Juan Bautista",
      "userId": "05706855501987576761"
     },
     "user_tz": 420
    },
    "id": "3k6p_AMWgYZK",
    "outputId": "2fe755dc-3749-4e33-fdc4-bbd2a6d385b7"
   },
   "outputs": [
    {
     "data": {
      "text/html": [
       "\n",
       "  <div id=\"df-dd728f1f-c86d-45fb-af95-857fa1c8beca\">\n",
       "    <div class=\"colab-df-container\">\n",
       "      <div>\n",
       "<style scoped>\n",
       "    .dataframe tbody tr th:only-of-type {\n",
       "        vertical-align: middle;\n",
       "    }\n",
       "\n",
       "    .dataframe tbody tr th {\n",
       "        vertical-align: top;\n",
       "    }\n",
       "\n",
       "    .dataframe thead th {\n",
       "        text-align: right;\n",
       "    }\n",
       "</style>\n",
       "<table border=\"1\" class=\"dataframe\">\n",
       "  <thead>\n",
       "    <tr style=\"text-align: right;\">\n",
       "      <th></th>\n",
       "      <th>DATETIME</th>\n",
       "      <th>TSLA_PRICE</th>\n",
       "    </tr>\n",
       "  </thead>\n",
       "  <tbody>\n",
       "    <tr>\n",
       "      <th>0</th>\n",
       "      <td>2020-06-01 04:00:00</td>\n",
       "      <td>170.400</td>\n",
       "    </tr>\n",
       "    <tr>\n",
       "      <th>1</th>\n",
       "      <td>2020-06-01 04:15:00</td>\n",
       "      <td>170.348</td>\n",
       "    </tr>\n",
       "    <tr>\n",
       "      <th>2</th>\n",
       "      <td>2020-06-01 04:30:00</td>\n",
       "      <td>170.488</td>\n",
       "    </tr>\n",
       "    <tr>\n",
       "      <th>3</th>\n",
       "      <td>2020-06-01 04:45:00</td>\n",
       "      <td>171.632</td>\n",
       "    </tr>\n",
       "    <tr>\n",
       "      <th>4</th>\n",
       "      <td>2020-06-01 05:00:00</td>\n",
       "      <td>172.000</td>\n",
       "    </tr>\n",
       "  </tbody>\n",
       "</table>\n",
       "</div>\n",
       "      <button class=\"colab-df-convert\" onclick=\"convertToInteractive('df-dd728f1f-c86d-45fb-af95-857fa1c8beca')\"\n",
       "              title=\"Convert this dataframe to an interactive table.\"\n",
       "              style=\"display:none;\">\n",
       "        \n",
       "  <svg xmlns=\"http://www.w3.org/2000/svg\" height=\"24px\"viewBox=\"0 0 24 24\"\n",
       "       width=\"24px\">\n",
       "    <path d=\"M0 0h24v24H0V0z\" fill=\"none\"/>\n",
       "    <path d=\"M18.56 5.44l.94 2.06.94-2.06 2.06-.94-2.06-.94-.94-2.06-.94 2.06-2.06.94zm-11 1L8.5 8.5l.94-2.06 2.06-.94-2.06-.94L8.5 2.5l-.94 2.06-2.06.94zm10 10l.94 2.06.94-2.06 2.06-.94-2.06-.94-.94-2.06-.94 2.06-2.06.94z\"/><path d=\"M17.41 7.96l-1.37-1.37c-.4-.4-.92-.59-1.43-.59-.52 0-1.04.2-1.43.59L10.3 9.45l-7.72 7.72c-.78.78-.78 2.05 0 2.83L4 21.41c.39.39.9.59 1.41.59.51 0 1.02-.2 1.41-.59l7.78-7.78 2.81-2.81c.8-.78.8-2.07 0-2.86zM5.41 20L4 18.59l7.72-7.72 1.47 1.35L5.41 20z\"/>\n",
       "  </svg>\n",
       "      </button>\n",
       "      \n",
       "  <style>\n",
       "    .colab-df-container {\n",
       "      display:flex;\n",
       "      flex-wrap:wrap;\n",
       "      gap: 12px;\n",
       "    }\n",
       "\n",
       "    .colab-df-convert {\n",
       "      background-color: #E8F0FE;\n",
       "      border: none;\n",
       "      border-radius: 50%;\n",
       "      cursor: pointer;\n",
       "      display: none;\n",
       "      fill: #1967D2;\n",
       "      height: 32px;\n",
       "      padding: 0 0 0 0;\n",
       "      width: 32px;\n",
       "    }\n",
       "\n",
       "    .colab-df-convert:hover {\n",
       "      background-color: #E2EBFA;\n",
       "      box-shadow: 0px 1px 2px rgba(60, 64, 67, 0.3), 0px 1px 3px 1px rgba(60, 64, 67, 0.15);\n",
       "      fill: #174EA6;\n",
       "    }\n",
       "\n",
       "    [theme=dark] .colab-df-convert {\n",
       "      background-color: #3B4455;\n",
       "      fill: #D2E3FC;\n",
       "    }\n",
       "\n",
       "    [theme=dark] .colab-df-convert:hover {\n",
       "      background-color: #434B5C;\n",
       "      box-shadow: 0px 1px 3px 1px rgba(0, 0, 0, 0.15);\n",
       "      filter: drop-shadow(0px 1px 2px rgba(0, 0, 0, 0.3));\n",
       "      fill: #FFFFFF;\n",
       "    }\n",
       "  </style>\n",
       "\n",
       "      <script>\n",
       "        const buttonEl =\n",
       "          document.querySelector('#df-dd728f1f-c86d-45fb-af95-857fa1c8beca button.colab-df-convert');\n",
       "        buttonEl.style.display =\n",
       "          google.colab.kernel.accessAllowed ? 'block' : 'none';\n",
       "\n",
       "        async function convertToInteractive(key) {\n",
       "          const element = document.querySelector('#df-dd728f1f-c86d-45fb-af95-857fa1c8beca');\n",
       "          const dataTable =\n",
       "            await google.colab.kernel.invokeFunction('convertToInteractive',\n",
       "                                                     [key], {});\n",
       "          if (!dataTable) return;\n",
       "\n",
       "          const docLinkHtml = 'Like what you see? Visit the ' +\n",
       "            '<a target=\"_blank\" href=https://colab.research.google.com/notebooks/data_table.ipynb>data table notebook</a>'\n",
       "            + ' to learn more about interactive tables.';\n",
       "          element.innerHTML = '';\n",
       "          dataTable['output_type'] = 'display_data';\n",
       "          await google.colab.output.renderOutput(dataTable, element);\n",
       "          const docLink = document.createElement('div');\n",
       "          docLink.innerHTML = docLinkHtml;\n",
       "          element.appendChild(docLink);\n",
       "        }\n",
       "      </script>\n",
       "    </div>\n",
       "  </div>\n",
       "  "
      ],
      "text/plain": [
       "             DATETIME  TSLA_PRICE\n",
       "0 2020-06-01 04:00:00     170.400\n",
       "1 2020-06-01 04:15:00     170.348\n",
       "2 2020-06-01 04:30:00     170.488\n",
       "3 2020-06-01 04:45:00     171.632\n",
       "4 2020-06-01 05:00:00     172.000"
      ]
     },
     "execution_count": 529,
     "metadata": {},
     "output_type": "execute_result"
    }
   ],
   "source": [
    "tsla.head()"
   ]
  },
  {
   "cell_type": "code",
   "execution_count": 529,
   "metadata": {
    "executionInfo": {
     "elapsed": 4,
     "status": "ok",
     "timestamp": 1657051006164,
     "user": {
      "displayName": "Juan Bautista",
      "userId": "05706855501987576761"
     },
     "user_tz": 420
    },
    "id": "sIrA0z0PgYZL"
   },
   "outputs": [],
   "source": []
  },
  {
   "cell_type": "markdown",
   "metadata": {
    "id": "97mDsV2XMQsx"
   },
   "source": [
    "# 2. CONSOLIDATE DATASETS"
   ]
  },
  {
   "cell_type": "code",
   "execution_count": 530,
   "metadata": {
    "executionInfo": {
     "elapsed": 4,
     "status": "ok",
     "timestamp": 1657051006164,
     "user": {
      "displayName": "Juan Bautista",
      "userId": "05706855501987576761"
     },
     "user_tz": 420
    },
    "id": "tIK98OLfND9a"
   },
   "outputs": [],
   "source": [
    "# BOND : fvx, tvx\n",
    "# INDEX: dow, nasx, inx\n",
    "# STOCK: fb, goog, dis, tsla"
   ]
  },
  {
   "cell_type": "code",
   "execution_count": 531,
   "metadata": {
    "executionInfo": {
     "elapsed": 4,
     "status": "ok",
     "timestamp": 1657051006165,
     "user": {
      "displayName": "Juan Bautista",
      "userId": "05706855501987576761"
     },
     "user_tz": 420
    },
    "id": "0uPrP_tVANkn"
   },
   "outputs": [],
   "source": [
    "bond  = pd.merge(fvx, tvx, on='DATETIME',how='inner')\n",
    "index = pd.merge(dow, pd.merge(nasx, inx, on = 'DATETIME', how = 'inner'),on = 'DATETIME', how = 'inner')\n",
    "stock = pd.merge(fb, pd.merge(goog, pd.merge(dis, tsla, on = 'DATETIME', how = 'inner'), on = 'DATETIME', how = 'inner'),on = 'DATETIME', how = 'inner')\n",
    "\n",
    "df = pd.merge(bond, pd.merge(index, stock, on = 'DATETIME', how = 'inner'),on = 'DATETIME', how = 'inner')"
   ]
  },
  {
   "cell_type": "code",
   "execution_count": 532,
   "metadata": {
    "colab": {
     "base_uri": "https://localhost:8080/",
     "height": 206
    },
    "executionInfo": {
     "elapsed": 4,
     "status": "ok",
     "timestamp": 1657051006165,
     "user": {
      "displayName": "Juan Bautista",
      "userId": "05706855501987576761"
     },
     "user_tz": 420
    },
    "id": "LQd9Rcz0ANhw",
    "outputId": "42d3dd8a-9947-4031-ea02-b3400a523c20"
   },
   "outputs": [
    {
     "data": {
      "text/html": [
       "\n",
       "  <div id=\"df-e93ce525-5a78-4208-b911-2e7673b88d50\">\n",
       "    <div class=\"colab-df-container\">\n",
       "      <div>\n",
       "<style scoped>\n",
       "    .dataframe tbody tr th:only-of-type {\n",
       "        vertical-align: middle;\n",
       "    }\n",
       "\n",
       "    .dataframe tbody tr th {\n",
       "        vertical-align: top;\n",
       "    }\n",
       "\n",
       "    .dataframe thead th {\n",
       "        text-align: right;\n",
       "    }\n",
       "</style>\n",
       "<table border=\"1\" class=\"dataframe\">\n",
       "  <thead>\n",
       "    <tr style=\"text-align: right;\">\n",
       "      <th></th>\n",
       "      <th>DATETIME</th>\n",
       "      <th>FVX_PRICE</th>\n",
       "      <th>TVX_PRICE</th>\n",
       "      <th>DOW_PRICE</th>\n",
       "      <th>NASX_PRICE</th>\n",
       "      <th>INX_PRICE</th>\n",
       "      <th>FB_PRICE</th>\n",
       "      <th>GOOG_PRICE</th>\n",
       "      <th>DIS_PRICE</th>\n",
       "      <th>TSLA_PRICE</th>\n",
       "    </tr>\n",
       "  </thead>\n",
       "  <tbody>\n",
       "    <tr>\n",
       "      <th>0</th>\n",
       "      <td>2020-06-01 09:30:00</td>\n",
       "      <td>0.31</td>\n",
       "      <td>0.67</td>\n",
       "      <td>25313.63</td>\n",
       "      <td>9505.40</td>\n",
       "      <td>3042.51</td>\n",
       "      <td>227.3900</td>\n",
       "      <td>1435.0400</td>\n",
       "      <td>118.0525</td>\n",
       "      <td>173.6571</td>\n",
       "    </tr>\n",
       "    <tr>\n",
       "      <th>1</th>\n",
       "      <td>2020-06-01 09:45:00</td>\n",
       "      <td>0.31</td>\n",
       "      <td>0.67</td>\n",
       "      <td>25365.99</td>\n",
       "      <td>9502.91</td>\n",
       "      <td>3041.97</td>\n",
       "      <td>228.7988</td>\n",
       "      <td>1431.8100</td>\n",
       "      <td>118.1700</td>\n",
       "      <td>174.9291</td>\n",
       "    </tr>\n",
       "    <tr>\n",
       "      <th>2</th>\n",
       "      <td>2020-06-01 10:00:00</td>\n",
       "      <td>0.31</td>\n",
       "      <td>0.67</td>\n",
       "      <td>25421.55</td>\n",
       "      <td>9521.96</td>\n",
       "      <td>3048.15</td>\n",
       "      <td>228.7500</td>\n",
       "      <td>1436.2700</td>\n",
       "      <td>118.3800</td>\n",
       "      <td>175.5382</td>\n",
       "    </tr>\n",
       "    <tr>\n",
       "      <th>3</th>\n",
       "      <td>2020-06-01 10:15:00</td>\n",
       "      <td>0.32</td>\n",
       "      <td>0.68</td>\n",
       "      <td>25436.04</td>\n",
       "      <td>9526.87</td>\n",
       "      <td>3050.03</td>\n",
       "      <td>228.7101</td>\n",
       "      <td>1434.0500</td>\n",
       "      <td>118.4800</td>\n",
       "      <td>175.4510</td>\n",
       "    </tr>\n",
       "    <tr>\n",
       "      <th>4</th>\n",
       "      <td>2020-06-01 10:30:00</td>\n",
       "      <td>0.31</td>\n",
       "      <td>0.68</td>\n",
       "      <td>25473.21</td>\n",
       "      <td>9535.28</td>\n",
       "      <td>3052.49</td>\n",
       "      <td>228.8700</td>\n",
       "      <td>1431.1245</td>\n",
       "      <td>119.0600</td>\n",
       "      <td>176.6000</td>\n",
       "    </tr>\n",
       "  </tbody>\n",
       "</table>\n",
       "</div>\n",
       "      <button class=\"colab-df-convert\" onclick=\"convertToInteractive('df-e93ce525-5a78-4208-b911-2e7673b88d50')\"\n",
       "              title=\"Convert this dataframe to an interactive table.\"\n",
       "              style=\"display:none;\">\n",
       "        \n",
       "  <svg xmlns=\"http://www.w3.org/2000/svg\" height=\"24px\"viewBox=\"0 0 24 24\"\n",
       "       width=\"24px\">\n",
       "    <path d=\"M0 0h24v24H0V0z\" fill=\"none\"/>\n",
       "    <path d=\"M18.56 5.44l.94 2.06.94-2.06 2.06-.94-2.06-.94-.94-2.06-.94 2.06-2.06.94zm-11 1L8.5 8.5l.94-2.06 2.06-.94-2.06-.94L8.5 2.5l-.94 2.06-2.06.94zm10 10l.94 2.06.94-2.06 2.06-.94-2.06-.94-.94-2.06-.94 2.06-2.06.94z\"/><path d=\"M17.41 7.96l-1.37-1.37c-.4-.4-.92-.59-1.43-.59-.52 0-1.04.2-1.43.59L10.3 9.45l-7.72 7.72c-.78.78-.78 2.05 0 2.83L4 21.41c.39.39.9.59 1.41.59.51 0 1.02-.2 1.41-.59l7.78-7.78 2.81-2.81c.8-.78.8-2.07 0-2.86zM5.41 20L4 18.59l7.72-7.72 1.47 1.35L5.41 20z\"/>\n",
       "  </svg>\n",
       "      </button>\n",
       "      \n",
       "  <style>\n",
       "    .colab-df-container {\n",
       "      display:flex;\n",
       "      flex-wrap:wrap;\n",
       "      gap: 12px;\n",
       "    }\n",
       "\n",
       "    .colab-df-convert {\n",
       "      background-color: #E8F0FE;\n",
       "      border: none;\n",
       "      border-radius: 50%;\n",
       "      cursor: pointer;\n",
       "      display: none;\n",
       "      fill: #1967D2;\n",
       "      height: 32px;\n",
       "      padding: 0 0 0 0;\n",
       "      width: 32px;\n",
       "    }\n",
       "\n",
       "    .colab-df-convert:hover {\n",
       "      background-color: #E2EBFA;\n",
       "      box-shadow: 0px 1px 2px rgba(60, 64, 67, 0.3), 0px 1px 3px 1px rgba(60, 64, 67, 0.15);\n",
       "      fill: #174EA6;\n",
       "    }\n",
       "\n",
       "    [theme=dark] .colab-df-convert {\n",
       "      background-color: #3B4455;\n",
       "      fill: #D2E3FC;\n",
       "    }\n",
       "\n",
       "    [theme=dark] .colab-df-convert:hover {\n",
       "      background-color: #434B5C;\n",
       "      box-shadow: 0px 1px 3px 1px rgba(0, 0, 0, 0.15);\n",
       "      filter: drop-shadow(0px 1px 2px rgba(0, 0, 0, 0.3));\n",
       "      fill: #FFFFFF;\n",
       "    }\n",
       "  </style>\n",
       "\n",
       "      <script>\n",
       "        const buttonEl =\n",
       "          document.querySelector('#df-e93ce525-5a78-4208-b911-2e7673b88d50 button.colab-df-convert');\n",
       "        buttonEl.style.display =\n",
       "          google.colab.kernel.accessAllowed ? 'block' : 'none';\n",
       "\n",
       "        async function convertToInteractive(key) {\n",
       "          const element = document.querySelector('#df-e93ce525-5a78-4208-b911-2e7673b88d50');\n",
       "          const dataTable =\n",
       "            await google.colab.kernel.invokeFunction('convertToInteractive',\n",
       "                                                     [key], {});\n",
       "          if (!dataTable) return;\n",
       "\n",
       "          const docLinkHtml = 'Like what you see? Visit the ' +\n",
       "            '<a target=\"_blank\" href=https://colab.research.google.com/notebooks/data_table.ipynb>data table notebook</a>'\n",
       "            + ' to learn more about interactive tables.';\n",
       "          element.innerHTML = '';\n",
       "          dataTable['output_type'] = 'display_data';\n",
       "          await google.colab.output.renderOutput(dataTable, element);\n",
       "          const docLink = document.createElement('div');\n",
       "          docLink.innerHTML = docLinkHtml;\n",
       "          element.appendChild(docLink);\n",
       "        }\n",
       "      </script>\n",
       "    </div>\n",
       "  </div>\n",
       "  "
      ],
      "text/plain": [
       "             DATETIME  FVX_PRICE  TVX_PRICE  DOW_PRICE  NASX_PRICE  INX_PRICE  \\\n",
       "0 2020-06-01 09:30:00       0.31       0.67   25313.63     9505.40    3042.51   \n",
       "1 2020-06-01 09:45:00       0.31       0.67   25365.99     9502.91    3041.97   \n",
       "2 2020-06-01 10:00:00       0.31       0.67   25421.55     9521.96    3048.15   \n",
       "3 2020-06-01 10:15:00       0.32       0.68   25436.04     9526.87    3050.03   \n",
       "4 2020-06-01 10:30:00       0.31       0.68   25473.21     9535.28    3052.49   \n",
       "\n",
       "   FB_PRICE  GOOG_PRICE  DIS_PRICE  TSLA_PRICE  \n",
       "0  227.3900   1435.0400   118.0525    173.6571  \n",
       "1  228.7988   1431.8100   118.1700    174.9291  \n",
       "2  228.7500   1436.2700   118.3800    175.5382  \n",
       "3  228.7101   1434.0500   118.4800    175.4510  \n",
       "4  228.8700   1431.1245   119.0600    176.6000  "
      ]
     },
     "execution_count": 532,
     "metadata": {},
     "output_type": "execute_result"
    }
   ],
   "source": [
    "df.head()"
   ]
  },
  {
   "cell_type": "code",
   "execution_count": 532,
   "metadata": {
    "executionInfo": {
     "elapsed": 4,
     "status": "ok",
     "timestamp": 1657051006165,
     "user": {
      "displayName": "Juan Bautista",
      "userId": "05706855501987576761"
     },
     "user_tz": 420
    },
    "id": "WLMxrR4wO9vf"
   },
   "outputs": [],
   "source": []
  },
  {
   "cell_type": "markdown",
   "metadata": {
    "id": "s2m_TesYPLBE"
   },
   "source": [
    "# 3. CLEAN DATASET"
   ]
  },
  {
   "cell_type": "code",
   "execution_count": 533,
   "metadata": {
    "executionInfo": {
     "elapsed": 224,
     "status": "ok",
     "timestamp": 1657051006386,
     "user": {
      "displayName": "Juan Bautista",
      "userId": "05706855501987576761"
     },
     "user_tz": 420
    },
    "id": "52VIJkRGPJnY"
   },
   "outputs": [],
   "source": [
    "# Create columns based on datetime\n",
    "df['DATE']        = df.DATETIME.dt.date\n",
    "df['YEAR']        = df.DATETIME.dt.year\n",
    "df['MONTH']       = df.DATETIME.dt.month\n",
    "df['DAY']         = df.DATETIME.dt.day\n",
    "df['HOUR']        = df.DATETIME.dt.hour\n",
    "df['MINUTE']      = df.DATETIME.dt.minute\n",
    "df['WEEK_DAY']    = df.DATETIME.dt.dayofweek"
   ]
  },
  {
   "cell_type": "code",
   "execution_count": 534,
   "metadata": {
    "executionInfo": {
     "elapsed": 2,
     "status": "ok",
     "timestamp": 1657051006386,
     "user": {
      "displayName": "Juan Bautista",
      "userId": "05706855501987576761"
     },
     "user_tz": 420
    },
    "id": "we-_fsrsWJ7T"
   },
   "outputs": [],
   "source": [
    "# Create holiday flag\n",
    "holiday_days = []\n",
    "for holiday in holidays.US(state = 'NY', years=[2020, 2021, 2022]).items(): holiday_days.append(str(holiday[0]))\n",
    "df['HOLIDAY']=[1 if str(value) in holiday_days else 0 for value in df['DATE']]"
   ]
  },
  {
   "cell_type": "code",
   "execution_count": 535,
   "metadata": {
    "colab": {
     "base_uri": "https://localhost:8080/"
    },
    "executionInfo": {
     "elapsed": 142,
     "status": "ok",
     "timestamp": 1657051006527,
     "user": {
      "displayName": "Juan Bautista",
      "userId": "05706855501987576761"
     },
     "user_tz": 420
    },
    "id": "_wZML9qXvqHZ",
    "outputId": "d9d77608-4bf5-4561-9e32-6e03b9d63eda"
   },
   "outputs": [
    {
     "name": "stderr",
     "output_type": "stream",
     "text": [
      "/usr/local/lib/python3.7/dist-packages/pandas/core/ops/array_ops.py:73: FutureWarning: Comparison of Timestamp with datetime.date is deprecated in order to match the standard library behavior.  In a future version these will be considered non-comparable.Use 'ts == pd.Timestamp(date)' or 'ts.date() == date' instead.\n",
      "  result = libops.scalar_compare(x.ravel(), y, op)\n"
     ]
    }
   ],
   "source": [
    "# Create pre - post holiday flag\n",
    "df['POSTHOLIDAY_MORNING'], df['PREHOLIDAY_AFTERNON'] = 0, 0\n",
    "\n",
    "id = df.loc[(df.HOLIDAY == 1),:].index\n",
    "POSTHOLIDAY = pd.to_datetime((df.loc[id,'DATE'] + pd.DateOffset(days=1)).unique())\n",
    "PREHOLIDAY  = pd.to_datetime((df.loc[id,'DATE'] - pd.DateOffset(days=1)).unique())\n",
    "\n",
    "for i in range(len(PREHOLIDAY)) : df.loc[(df.DATE == PREHOLIDAY[i]) & (df.HOUR > 12)   , 'PREHOLIDAY_AFTERNON'] =1\n",
    "for i in range(len(POSTHOLIDAY)): df.loc[ (df.DATE == POSTHOLIDAY[i]) & (df.HOUR <= 12), 'POSTHOLIDAY_MORNING'] =1"
   ]
  },
  {
   "cell_type": "code",
   "execution_count": 536,
   "metadata": {
    "executionInfo": {
     "elapsed": 185,
     "status": "ok",
     "timestamp": 1657051006711,
     "user": {
      "displayName": "Juan Bautista",
      "userId": "05706855501987576761"
     },
     "user_tz": 420
    },
    "id": "pNI2urhvoyq_"
   },
   "outputs": [],
   "source": [
    "# Create monday morning flag\n",
    "df['MONDAY_MORNING']=0\n",
    "df.loc[(df.WEEK_DAY == 0) & (df.HOUR <= 12), 'MONDAY_MORNING'] =1"
   ]
  },
  {
   "cell_type": "code",
   "execution_count": 537,
   "metadata": {
    "executionInfo": {
     "elapsed": 5,
     "status": "ok",
     "timestamp": 1657051006712,
     "user": {
      "displayName": "Juan Bautista",
      "userId": "05706855501987576761"
     },
     "user_tz": 420
    },
    "id": "rP_f8Jb6te8m"
   },
   "outputs": [],
   "source": [
    "# Create friday afternoon flag\n",
    "df['FRIDAY_AFTERNOON']=0\n",
    "df.loc[(df.WEEK_DAY == 4) & (df.HOUR > 12), 'FRIDAY_AFTERNOON'] =1"
   ]
  },
  {
   "cell_type": "code",
   "execution_count": 538,
   "metadata": {
    "executionInfo": {
     "elapsed": 4,
     "status": "ok",
     "timestamp": 1657051006712,
     "user": {
      "displayName": "Juan Bautista",
      "userId": "05706855501987576761"
     },
     "user_tz": 420
    },
    "id": "g8FDU2d6-9vp"
   },
   "outputs": [],
   "source": [
    "#Delete weekends\n",
    "df.drop(df.index[df['WEEK_DAY']==5], inplace=True)\n",
    "df.drop(df.index[df['WEEK_DAY']==6], inplace=True)"
   ]
  },
  {
   "cell_type": "code",
   "execution_count": 539,
   "metadata": {
    "executionInfo": {
     "elapsed": 4,
     "status": "ok",
     "timestamp": 1657051006712,
     "user": {
      "displayName": "Juan Bautista",
      "userId": "05706855501987576761"
     },
     "user_tz": 420
    },
    "id": "bA7x5KO7VR5j"
   },
   "outputs": [],
   "source": [
    "#Delete aftermarket hours\n",
    "df.drop(df.index[df['HOUR' ]==17], inplace=True)\n",
    "df.drop(df.index[(df['HOUR']==16) & (df['MINUTE']==15)], inplace=True)\n",
    "df.drop(df.index[(df['HOUR']==16) & (df['MINUTE']==30)], inplace=True)\n",
    "df.drop(df.index[(df['HOUR']==16) & (df['MINUTE']==45)], inplace=True)\n",
    "df.drop(df.index[(df['HOUR']==9 ) & (df['MINUTE']==0)] , inplace=True)\n",
    "df.drop(df.index[(df['HOUR']==9 ) & (df['MINUTE']==15)], inplace=True)"
   ]
  },
  {
   "cell_type": "code",
   "execution_count": 540,
   "metadata": {
    "executionInfo": {
     "elapsed": 4,
     "status": "ok",
     "timestamp": 1657051006712,
     "user": {
      "displayName": "Juan Bautista",
      "userId": "05706855501987576761"
     },
     "user_tz": 420
    },
    "id": "pdqbwz9FWKIl"
   },
   "outputs": [],
   "source": [
    "# Delete holiday days\n",
    "df.drop(df.index[df['HOLIDAY']==1], inplace=True)\n",
    "df.drop(columns=['HOLIDAY'], inplace=True)"
   ]
  },
  {
   "cell_type": "code",
   "execution_count": 541,
   "metadata": {
    "executionInfo": {
     "elapsed": 5,
     "status": "ok",
     "timestamp": 1657051006713,
     "user": {
      "displayName": "Juan Bautista",
      "userId": "05706855501987576761"
     },
     "user_tz": 420
    },
    "id": "thPdSt7rx3SD"
   },
   "outputs": [],
   "source": [
    "# Drop DATE feature\n",
    "df.drop(columns=['DATE'], inplace=True)"
   ]
  },
  {
   "cell_type": "code",
   "execution_count": 542,
   "metadata": {
    "executionInfo": {
     "elapsed": 5,
     "status": "ok",
     "timestamp": 1657051006713,
     "user": {
      "displayName": "Juan Bautista",
      "userId": "05706855501987576761"
     },
     "user_tz": 420
    },
    "id": "T2YhkTpzco0v"
   },
   "outputs": [],
   "source": [
    "index = ['DATETIME', 'YEAR', 'MONTH', 'DAY', 'HOUR', 'MINUTE', 'WEEK_DAY', 'MONDAY_MORNING',\t'FRIDAY_AFTERNOON', 'PREHOLIDAY_AFTERNON', 'POSTHOLIDAY_MORNING',\t'FVX_PRICE',\t\n",
    "         'TVX_PRICE',\t'DOW_PRICE',\t'NASX_PRICE',\t'INX_PRICE',\t'FB_PRICE',\t'GOOG_PRICE',\t'DIS_PRICE', 'TSLA_PRICE']\n",
    "df = df.reindex(columns = index)\n",
    "df.sort_values(by = 'DATETIME', ascending = True, inplace = True)\n",
    "#df = df.reset_index(drop=True)\n",
    "df = df.set_index('DATETIME')"
   ]
  },
  {
   "cell_type": "code",
   "execution_count": 543,
   "metadata": {
    "colab": {
     "base_uri": "https://localhost:8080/",
     "height": 394
    },
    "executionInfo": {
     "elapsed": 237,
     "status": "ok",
     "timestamp": 1657051006946,
     "user": {
      "displayName": "Juan Bautista",
      "userId": "05706855501987576761"
     },
     "user_tz": 420
    },
    "id": "jZGK8JufeHQ3",
    "outputId": "18dae380-1ee3-4dc8-d4e5-416a801712cd"
   },
   "outputs": [
    {
     "data": {
      "text/html": [
       "\n",
       "  <div id=\"df-e95e7b9e-69ce-41d5-a49e-fa785a753933\">\n",
       "    <div class=\"colab-df-container\">\n",
       "      <div>\n",
       "<style scoped>\n",
       "    .dataframe tbody tr th:only-of-type {\n",
       "        vertical-align: middle;\n",
       "    }\n",
       "\n",
       "    .dataframe tbody tr th {\n",
       "        vertical-align: top;\n",
       "    }\n",
       "\n",
       "    .dataframe thead th {\n",
       "        text-align: right;\n",
       "    }\n",
       "</style>\n",
       "<table border=\"1\" class=\"dataframe\">\n",
       "  <thead>\n",
       "    <tr style=\"text-align: right;\">\n",
       "      <th></th>\n",
       "      <th>YEAR</th>\n",
       "      <th>MONTH</th>\n",
       "      <th>DAY</th>\n",
       "      <th>HOUR</th>\n",
       "      <th>MINUTE</th>\n",
       "      <th>WEEK_DAY</th>\n",
       "      <th>MONDAY_MORNING</th>\n",
       "      <th>FRIDAY_AFTERNOON</th>\n",
       "      <th>PREHOLIDAY_AFTERNON</th>\n",
       "      <th>POSTHOLIDAY_MORNING</th>\n",
       "      <th>FVX_PRICE</th>\n",
       "      <th>TVX_PRICE</th>\n",
       "      <th>DOW_PRICE</th>\n",
       "      <th>NASX_PRICE</th>\n",
       "      <th>INX_PRICE</th>\n",
       "      <th>FB_PRICE</th>\n",
       "      <th>GOOG_PRICE</th>\n",
       "      <th>DIS_PRICE</th>\n",
       "      <th>TSLA_PRICE</th>\n",
       "    </tr>\n",
       "    <tr>\n",
       "      <th>DATETIME</th>\n",
       "      <th></th>\n",
       "      <th></th>\n",
       "      <th></th>\n",
       "      <th></th>\n",
       "      <th></th>\n",
       "      <th></th>\n",
       "      <th></th>\n",
       "      <th></th>\n",
       "      <th></th>\n",
       "      <th></th>\n",
       "      <th></th>\n",
       "      <th></th>\n",
       "      <th></th>\n",
       "      <th></th>\n",
       "      <th></th>\n",
       "      <th></th>\n",
       "      <th></th>\n",
       "      <th></th>\n",
       "      <th></th>\n",
       "    </tr>\n",
       "  </thead>\n",
       "  <tbody>\n",
       "    <tr>\n",
       "      <th>2020-06-01 09:30:00</th>\n",
       "      <td>2020</td>\n",
       "      <td>6</td>\n",
       "      <td>1</td>\n",
       "      <td>9</td>\n",
       "      <td>30</td>\n",
       "      <td>0</td>\n",
       "      <td>1</td>\n",
       "      <td>0</td>\n",
       "      <td>0</td>\n",
       "      <td>0</td>\n",
       "      <td>0.31</td>\n",
       "      <td>0.67</td>\n",
       "      <td>25313.63</td>\n",
       "      <td>9505.40</td>\n",
       "      <td>3042.51</td>\n",
       "      <td>227.3900</td>\n",
       "      <td>1435.0400</td>\n",
       "      <td>118.0525</td>\n",
       "      <td>173.6571</td>\n",
       "    </tr>\n",
       "    <tr>\n",
       "      <th>2020-06-01 09:45:00</th>\n",
       "      <td>2020</td>\n",
       "      <td>6</td>\n",
       "      <td>1</td>\n",
       "      <td>9</td>\n",
       "      <td>45</td>\n",
       "      <td>0</td>\n",
       "      <td>1</td>\n",
       "      <td>0</td>\n",
       "      <td>0</td>\n",
       "      <td>0</td>\n",
       "      <td>0.31</td>\n",
       "      <td>0.67</td>\n",
       "      <td>25365.99</td>\n",
       "      <td>9502.91</td>\n",
       "      <td>3041.97</td>\n",
       "      <td>228.7988</td>\n",
       "      <td>1431.8100</td>\n",
       "      <td>118.1700</td>\n",
       "      <td>174.9291</td>\n",
       "    </tr>\n",
       "    <tr>\n",
       "      <th>2020-06-01 10:00:00</th>\n",
       "      <td>2020</td>\n",
       "      <td>6</td>\n",
       "      <td>1</td>\n",
       "      <td>10</td>\n",
       "      <td>0</td>\n",
       "      <td>0</td>\n",
       "      <td>1</td>\n",
       "      <td>0</td>\n",
       "      <td>0</td>\n",
       "      <td>0</td>\n",
       "      <td>0.31</td>\n",
       "      <td>0.67</td>\n",
       "      <td>25421.55</td>\n",
       "      <td>9521.96</td>\n",
       "      <td>3048.15</td>\n",
       "      <td>228.7500</td>\n",
       "      <td>1436.2700</td>\n",
       "      <td>118.3800</td>\n",
       "      <td>175.5382</td>\n",
       "    </tr>\n",
       "    <tr>\n",
       "      <th>2020-06-01 10:15:00</th>\n",
       "      <td>2020</td>\n",
       "      <td>6</td>\n",
       "      <td>1</td>\n",
       "      <td>10</td>\n",
       "      <td>15</td>\n",
       "      <td>0</td>\n",
       "      <td>1</td>\n",
       "      <td>0</td>\n",
       "      <td>0</td>\n",
       "      <td>0</td>\n",
       "      <td>0.32</td>\n",
       "      <td>0.68</td>\n",
       "      <td>25436.04</td>\n",
       "      <td>9526.87</td>\n",
       "      <td>3050.03</td>\n",
       "      <td>228.7101</td>\n",
       "      <td>1434.0500</td>\n",
       "      <td>118.4800</td>\n",
       "      <td>175.4510</td>\n",
       "    </tr>\n",
       "    <tr>\n",
       "      <th>2020-06-01 10:30:00</th>\n",
       "      <td>2020</td>\n",
       "      <td>6</td>\n",
       "      <td>1</td>\n",
       "      <td>10</td>\n",
       "      <td>30</td>\n",
       "      <td>0</td>\n",
       "      <td>1</td>\n",
       "      <td>0</td>\n",
       "      <td>0</td>\n",
       "      <td>0</td>\n",
       "      <td>0.31</td>\n",
       "      <td>0.68</td>\n",
       "      <td>25473.21</td>\n",
       "      <td>9535.28</td>\n",
       "      <td>3052.49</td>\n",
       "      <td>228.8700</td>\n",
       "      <td>1431.1245</td>\n",
       "      <td>119.0600</td>\n",
       "      <td>176.6000</td>\n",
       "    </tr>\n",
       "    <tr>\n",
       "      <th>2020-06-01 10:45:00</th>\n",
       "      <td>2020</td>\n",
       "      <td>6</td>\n",
       "      <td>1</td>\n",
       "      <td>10</td>\n",
       "      <td>45</td>\n",
       "      <td>0</td>\n",
       "      <td>1</td>\n",
       "      <td>0</td>\n",
       "      <td>0</td>\n",
       "      <td>0</td>\n",
       "      <td>0.31</td>\n",
       "      <td>0.68</td>\n",
       "      <td>25440.58</td>\n",
       "      <td>9532.38</td>\n",
       "      <td>3050.69</td>\n",
       "      <td>229.0210</td>\n",
       "      <td>1431.2500</td>\n",
       "      <td>119.5260</td>\n",
       "      <td>176.7480</td>\n",
       "    </tr>\n",
       "    <tr>\n",
       "      <th>2020-06-01 11:00:00</th>\n",
       "      <td>2020</td>\n",
       "      <td>6</td>\n",
       "      <td>1</td>\n",
       "      <td>11</td>\n",
       "      <td>0</td>\n",
       "      <td>0</td>\n",
       "      <td>1</td>\n",
       "      <td>0</td>\n",
       "      <td>0</td>\n",
       "      <td>0</td>\n",
       "      <td>0.31</td>\n",
       "      <td>0.68</td>\n",
       "      <td>25408.86</td>\n",
       "      <td>9521.55</td>\n",
       "      <td>3047.05</td>\n",
       "      <td>228.6367</td>\n",
       "      <td>1430.5999</td>\n",
       "      <td>119.2600</td>\n",
       "      <td>176.5600</td>\n",
       "    </tr>\n",
       "    <tr>\n",
       "      <th>2020-06-01 11:15:00</th>\n",
       "      <td>2020</td>\n",
       "      <td>6</td>\n",
       "      <td>1</td>\n",
       "      <td>11</td>\n",
       "      <td>15</td>\n",
       "      <td>0</td>\n",
       "      <td>1</td>\n",
       "      <td>0</td>\n",
       "      <td>0</td>\n",
       "      <td>0</td>\n",
       "      <td>0.31</td>\n",
       "      <td>0.68</td>\n",
       "      <td>25393.88</td>\n",
       "      <td>9512.11</td>\n",
       "      <td>3045.30</td>\n",
       "      <td>228.6000</td>\n",
       "      <td>1428.6250</td>\n",
       "      <td>118.6950</td>\n",
       "      <td>175.4740</td>\n",
       "    </tr>\n",
       "    <tr>\n",
       "      <th>2020-06-01 11:30:00</th>\n",
       "      <td>2020</td>\n",
       "      <td>6</td>\n",
       "      <td>1</td>\n",
       "      <td>11</td>\n",
       "      <td>30</td>\n",
       "      <td>0</td>\n",
       "      <td>1</td>\n",
       "      <td>0</td>\n",
       "      <td>0</td>\n",
       "      <td>0</td>\n",
       "      <td>0.31</td>\n",
       "      <td>0.67</td>\n",
       "      <td>25429.82</td>\n",
       "      <td>9528.04</td>\n",
       "      <td>3049.71</td>\n",
       "      <td>228.5491</td>\n",
       "      <td>1431.7900</td>\n",
       "      <td>118.5900</td>\n",
       "      <td>175.4000</td>\n",
       "    </tr>\n",
       "    <tr>\n",
       "      <th>2020-06-01 11:45:00</th>\n",
       "      <td>2020</td>\n",
       "      <td>6</td>\n",
       "      <td>1</td>\n",
       "      <td>11</td>\n",
       "      <td>45</td>\n",
       "      <td>0</td>\n",
       "      <td>1</td>\n",
       "      <td>0</td>\n",
       "      <td>0</td>\n",
       "      <td>0</td>\n",
       "      <td>0.30</td>\n",
       "      <td>0.67</td>\n",
       "      <td>25437.53</td>\n",
       "      <td>9529.09</td>\n",
       "      <td>3050.19</td>\n",
       "      <td>228.7400</td>\n",
       "      <td>1429.4625</td>\n",
       "      <td>118.5800</td>\n",
       "      <td>176.0760</td>\n",
       "    </tr>\n",
       "  </tbody>\n",
       "</table>\n",
       "</div>\n",
       "      <button class=\"colab-df-convert\" onclick=\"convertToInteractive('df-e95e7b9e-69ce-41d5-a49e-fa785a753933')\"\n",
       "              title=\"Convert this dataframe to an interactive table.\"\n",
       "              style=\"display:none;\">\n",
       "        \n",
       "  <svg xmlns=\"http://www.w3.org/2000/svg\" height=\"24px\"viewBox=\"0 0 24 24\"\n",
       "       width=\"24px\">\n",
       "    <path d=\"M0 0h24v24H0V0z\" fill=\"none\"/>\n",
       "    <path d=\"M18.56 5.44l.94 2.06.94-2.06 2.06-.94-2.06-.94-.94-2.06-.94 2.06-2.06.94zm-11 1L8.5 8.5l.94-2.06 2.06-.94-2.06-.94L8.5 2.5l-.94 2.06-2.06.94zm10 10l.94 2.06.94-2.06 2.06-.94-2.06-.94-.94-2.06-.94 2.06-2.06.94z\"/><path d=\"M17.41 7.96l-1.37-1.37c-.4-.4-.92-.59-1.43-.59-.52 0-1.04.2-1.43.59L10.3 9.45l-7.72 7.72c-.78.78-.78 2.05 0 2.83L4 21.41c.39.39.9.59 1.41.59.51 0 1.02-.2 1.41-.59l7.78-7.78 2.81-2.81c.8-.78.8-2.07 0-2.86zM5.41 20L4 18.59l7.72-7.72 1.47 1.35L5.41 20z\"/>\n",
       "  </svg>\n",
       "      </button>\n",
       "      \n",
       "  <style>\n",
       "    .colab-df-container {\n",
       "      display:flex;\n",
       "      flex-wrap:wrap;\n",
       "      gap: 12px;\n",
       "    }\n",
       "\n",
       "    .colab-df-convert {\n",
       "      background-color: #E8F0FE;\n",
       "      border: none;\n",
       "      border-radius: 50%;\n",
       "      cursor: pointer;\n",
       "      display: none;\n",
       "      fill: #1967D2;\n",
       "      height: 32px;\n",
       "      padding: 0 0 0 0;\n",
       "      width: 32px;\n",
       "    }\n",
       "\n",
       "    .colab-df-convert:hover {\n",
       "      background-color: #E2EBFA;\n",
       "      box-shadow: 0px 1px 2px rgba(60, 64, 67, 0.3), 0px 1px 3px 1px rgba(60, 64, 67, 0.15);\n",
       "      fill: #174EA6;\n",
       "    }\n",
       "\n",
       "    [theme=dark] .colab-df-convert {\n",
       "      background-color: #3B4455;\n",
       "      fill: #D2E3FC;\n",
       "    }\n",
       "\n",
       "    [theme=dark] .colab-df-convert:hover {\n",
       "      background-color: #434B5C;\n",
       "      box-shadow: 0px 1px 3px 1px rgba(0, 0, 0, 0.15);\n",
       "      filter: drop-shadow(0px 1px 2px rgba(0, 0, 0, 0.3));\n",
       "      fill: #FFFFFF;\n",
       "    }\n",
       "  </style>\n",
       "\n",
       "      <script>\n",
       "        const buttonEl =\n",
       "          document.querySelector('#df-e95e7b9e-69ce-41d5-a49e-fa785a753933 button.colab-df-convert');\n",
       "        buttonEl.style.display =\n",
       "          google.colab.kernel.accessAllowed ? 'block' : 'none';\n",
       "\n",
       "        async function convertToInteractive(key) {\n",
       "          const element = document.querySelector('#df-e95e7b9e-69ce-41d5-a49e-fa785a753933');\n",
       "          const dataTable =\n",
       "            await google.colab.kernel.invokeFunction('convertToInteractive',\n",
       "                                                     [key], {});\n",
       "          if (!dataTable) return;\n",
       "\n",
       "          const docLinkHtml = 'Like what you see? Visit the ' +\n",
       "            '<a target=\"_blank\" href=https://colab.research.google.com/notebooks/data_table.ipynb>data table notebook</a>'\n",
       "            + ' to learn more about interactive tables.';\n",
       "          element.innerHTML = '';\n",
       "          dataTable['output_type'] = 'display_data';\n",
       "          await google.colab.output.renderOutput(dataTable, element);\n",
       "          const docLink = document.createElement('div');\n",
       "          docLink.innerHTML = docLinkHtml;\n",
       "          element.appendChild(docLink);\n",
       "        }\n",
       "      </script>\n",
       "    </div>\n",
       "  </div>\n",
       "  "
      ],
      "text/plain": [
       "                     YEAR  MONTH  DAY  HOUR  MINUTE  WEEK_DAY  MONDAY_MORNING  \\\n",
       "DATETIME                                                                        \n",
       "2020-06-01 09:30:00  2020      6    1     9      30         0               1   \n",
       "2020-06-01 09:45:00  2020      6    1     9      45         0               1   \n",
       "2020-06-01 10:00:00  2020      6    1    10       0         0               1   \n",
       "2020-06-01 10:15:00  2020      6    1    10      15         0               1   \n",
       "2020-06-01 10:30:00  2020      6    1    10      30         0               1   \n",
       "2020-06-01 10:45:00  2020      6    1    10      45         0               1   \n",
       "2020-06-01 11:00:00  2020      6    1    11       0         0               1   \n",
       "2020-06-01 11:15:00  2020      6    1    11      15         0               1   \n",
       "2020-06-01 11:30:00  2020      6    1    11      30         0               1   \n",
       "2020-06-01 11:45:00  2020      6    1    11      45         0               1   \n",
       "\n",
       "                     FRIDAY_AFTERNOON  PREHOLIDAY_AFTERNON  \\\n",
       "DATETIME                                                     \n",
       "2020-06-01 09:30:00                 0                    0   \n",
       "2020-06-01 09:45:00                 0                    0   \n",
       "2020-06-01 10:00:00                 0                    0   \n",
       "2020-06-01 10:15:00                 0                    0   \n",
       "2020-06-01 10:30:00                 0                    0   \n",
       "2020-06-01 10:45:00                 0                    0   \n",
       "2020-06-01 11:00:00                 0                    0   \n",
       "2020-06-01 11:15:00                 0                    0   \n",
       "2020-06-01 11:30:00                 0                    0   \n",
       "2020-06-01 11:45:00                 0                    0   \n",
       "\n",
       "                     POSTHOLIDAY_MORNING  FVX_PRICE  TVX_PRICE  DOW_PRICE  \\\n",
       "DATETIME                                                                    \n",
       "2020-06-01 09:30:00                    0       0.31       0.67   25313.63   \n",
       "2020-06-01 09:45:00                    0       0.31       0.67   25365.99   \n",
       "2020-06-01 10:00:00                    0       0.31       0.67   25421.55   \n",
       "2020-06-01 10:15:00                    0       0.32       0.68   25436.04   \n",
       "2020-06-01 10:30:00                    0       0.31       0.68   25473.21   \n",
       "2020-06-01 10:45:00                    0       0.31       0.68   25440.58   \n",
       "2020-06-01 11:00:00                    0       0.31       0.68   25408.86   \n",
       "2020-06-01 11:15:00                    0       0.31       0.68   25393.88   \n",
       "2020-06-01 11:30:00                    0       0.31       0.67   25429.82   \n",
       "2020-06-01 11:45:00                    0       0.30       0.67   25437.53   \n",
       "\n",
       "                     NASX_PRICE  INX_PRICE  FB_PRICE  GOOG_PRICE  DIS_PRICE  \\\n",
       "DATETIME                                                                      \n",
       "2020-06-01 09:30:00     9505.40    3042.51  227.3900   1435.0400   118.0525   \n",
       "2020-06-01 09:45:00     9502.91    3041.97  228.7988   1431.8100   118.1700   \n",
       "2020-06-01 10:00:00     9521.96    3048.15  228.7500   1436.2700   118.3800   \n",
       "2020-06-01 10:15:00     9526.87    3050.03  228.7101   1434.0500   118.4800   \n",
       "2020-06-01 10:30:00     9535.28    3052.49  228.8700   1431.1245   119.0600   \n",
       "2020-06-01 10:45:00     9532.38    3050.69  229.0210   1431.2500   119.5260   \n",
       "2020-06-01 11:00:00     9521.55    3047.05  228.6367   1430.5999   119.2600   \n",
       "2020-06-01 11:15:00     9512.11    3045.30  228.6000   1428.6250   118.6950   \n",
       "2020-06-01 11:30:00     9528.04    3049.71  228.5491   1431.7900   118.5900   \n",
       "2020-06-01 11:45:00     9529.09    3050.19  228.7400   1429.4625   118.5800   \n",
       "\n",
       "                     TSLA_PRICE  \n",
       "DATETIME                         \n",
       "2020-06-01 09:30:00    173.6571  \n",
       "2020-06-01 09:45:00    174.9291  \n",
       "2020-06-01 10:00:00    175.5382  \n",
       "2020-06-01 10:15:00    175.4510  \n",
       "2020-06-01 10:30:00    176.6000  \n",
       "2020-06-01 10:45:00    176.7480  \n",
       "2020-06-01 11:00:00    176.5600  \n",
       "2020-06-01 11:15:00    175.4740  \n",
       "2020-06-01 11:30:00    175.4000  \n",
       "2020-06-01 11:45:00    176.0760  "
      ]
     },
     "execution_count": 543,
     "metadata": {},
     "output_type": "execute_result"
    }
   ],
   "source": [
    "df.head(10)"
   ]
  },
  {
   "cell_type": "code",
   "execution_count": 543,
   "metadata": {
    "executionInfo": {
     "elapsed": 6,
     "status": "ok",
     "timestamp": 1657051006947,
     "user": {
      "displayName": "Juan Bautista",
      "userId": "05706855501987576761"
     },
     "user_tz": 420
    },
    "id": "Vg2Qy5mPURwi"
   },
   "outputs": [],
   "source": []
  },
  {
   "cell_type": "markdown",
   "metadata": {
    "id": "hOxqb95jxhB-"
   },
   "source": [
    "# 4. DATA PREPARATION"
   ]
  },
  {
   "cell_type": "code",
   "execution_count": 544,
   "metadata": {
    "executionInfo": {
     "elapsed": 6,
     "status": "ok",
     "timestamp": 1657051006947,
     "user": {
      "displayName": "Juan Bautista",
      "userId": "05706855501987576761"
     },
     "user_tz": 420
    },
    "id": "dvJNIgvAxsmo"
   },
   "outputs": [],
   "source": [
    "YEAR = pd.get_dummies(df.YEAR, prefix = 'YEAR', prefix_sep = '_')\n",
    "MONTH = pd.get_dummies(df.MONTH, prefix = 'MONTH', prefix_sep = '_')\n",
    "DAY = pd.get_dummies(df.DAY, prefix = 'DAY', prefix_sep = '_')\n",
    "HOUR = pd.get_dummies(df.HOUR, prefix = 'HOUR', prefix_sep = '_')\n",
    "MIN = pd.get_dummies(df.MINUTE, prefix = 'MIN', prefix_sep = '_')\n",
    "WEEK_DAY = pd.get_dummies(df.WEEK_DAY, prefix = 'WEEK_DAY', prefix_sep = '_')"
   ]
  },
  {
   "cell_type": "code",
   "execution_count": 545,
   "metadata": {
    "executionInfo": {
     "elapsed": 6,
     "status": "ok",
     "timestamp": 1657051006947,
     "user": {
      "displayName": "Juan Bautista",
      "userId": "05706855501987576761"
     },
     "user_tz": 420
    },
    "id": "SKg1Sir1xsha"
   },
   "outputs": [],
   "source": [
    "df.drop(['YEAR','MONTH','DAY','HOUR','MINUTE', 'WEEK_DAY'],axis=1,inplace=True)\n",
    "df = pd.concat([df,YEAR, MONTH, WEEK_DAY, DAY, HOUR, MIN],axis=1)"
   ]
  },
  {
   "cell_type": "code",
   "execution_count": 546,
   "metadata": {
    "executionInfo": {
     "elapsed": 5,
     "status": "ok",
     "timestamp": 1657051006947,
     "user": {
      "displayName": "Juan Bautista",
      "userId": "05706855501987576761"
     },
     "user_tz": 420
    },
    "id": "HucB17HLxse0"
   },
   "outputs": [],
   "source": [
    "index = ['YEAR_2020',\t'YEAR_2021',\t'YEAR_2022',\n",
    "         'MONTH_1'  ,\t'MONTH_2' ,\t'MONTH_3' ,\t'MONTH_4',\t'MONTH_5',\t'MONTH_6',\t'MONTH_7',\t'MONTH_8',\t'MONTH_9',\t'MONTH_10',\t'MONTH_11',\t'MONTH_12',\n",
    "         'WEEK_DAY_0',\t'WEEK_DAY_1',\t'WEEK_DAY_2',\t'WEEK_DAY_3',\t'WEEK_DAY_4',\n",
    "         'DAY_1',\t'DAY_2',\t'DAY_3',\t'DAY_4',\t'DAY_5',\t'DAY_6',\t'DAY_7',\t'DAY_8',\t'DAY_9',\t'DAY_10',\t'DAY_11',\t'DAY_12',\t'DAY_13',\t'DAY_14',\t'DAY_15',\n",
    "         'DAY_16',\t'DAY_17',\t'DAY_18',\t'DAY_19',\t'DAY_20',\t'DAY_21',\t'DAY_22',\t'DAY_23',\t'DAY_24',\t'DAY_25',\t'DAY_26',\t'DAY_27',\t'DAY_28',\t'DAY_29',\t'DAY_30',\t'DAY_31',\n",
    "         'HOUR_9',\t'HOUR_10',\t'HOUR_11',\t'HOUR_12',\t'HOUR_13',\t'HOUR_14',\t'MIN_0',\t'MIN_15',\t'MIN_30',\t'MIN_45', \n",
    "         'MONDAY_MORNING',\t'FRIDAY_AFTERNOON',\t'PREHOLIDAY_AFTERNON',\t'POSTHOLIDAY_MORNING',\n",
    "         'FVX_PRICE',\t'TVX_PRICE',\t'DOW_PRICE',\t'NASX_PRICE',\t'INX_PRICE',\t'FB_PRICE',\t'GOOG_PRICE',\t'DIS_PRICE',\t'TSLA_PRICE']\n",
    "df = df.reindex(columns = index)\n"
   ]
  },
  {
   "cell_type": "code",
   "execution_count": 547,
   "metadata": {
    "colab": {
     "base_uri": "https://localhost:8080/",
     "height": 475
    },
    "executionInfo": {
     "elapsed": 206,
     "status": "ok",
     "timestamp": 1657051007148,
     "user": {
      "displayName": "Juan Bautista",
      "userId": "05706855501987576761"
     },
     "user_tz": 420
    },
    "id": "J3_TKFtf3Tos",
    "outputId": "4b3d315b-143d-429b-a875-0be804da2c05"
   },
   "outputs": [
    {
     "data": {
      "text/html": [
       "\n",
       "  <div id=\"df-f797f0f5-8353-4086-b118-145ba0efc3da\">\n",
       "    <div class=\"colab-df-container\">\n",
       "      <div>\n",
       "<style scoped>\n",
       "    .dataframe tbody tr th:only-of-type {\n",
       "        vertical-align: middle;\n",
       "    }\n",
       "\n",
       "    .dataframe tbody tr th {\n",
       "        vertical-align: top;\n",
       "    }\n",
       "\n",
       "    .dataframe thead th {\n",
       "        text-align: right;\n",
       "    }\n",
       "</style>\n",
       "<table border=\"1\" class=\"dataframe\">\n",
       "  <thead>\n",
       "    <tr style=\"text-align: right;\">\n",
       "      <th></th>\n",
       "      <th>YEAR_2020</th>\n",
       "      <th>YEAR_2021</th>\n",
       "      <th>YEAR_2022</th>\n",
       "      <th>MONTH_1</th>\n",
       "      <th>MONTH_2</th>\n",
       "      <th>MONTH_3</th>\n",
       "      <th>MONTH_4</th>\n",
       "      <th>MONTH_5</th>\n",
       "      <th>MONTH_6</th>\n",
       "      <th>MONTH_7</th>\n",
       "      <th>MONTH_8</th>\n",
       "      <th>MONTH_9</th>\n",
       "      <th>MONTH_10</th>\n",
       "      <th>MONTH_11</th>\n",
       "      <th>MONTH_12</th>\n",
       "      <th>WEEK_DAY_0</th>\n",
       "      <th>WEEK_DAY_1</th>\n",
       "      <th>WEEK_DAY_2</th>\n",
       "      <th>WEEK_DAY_3</th>\n",
       "      <th>WEEK_DAY_4</th>\n",
       "      <th>DAY_1</th>\n",
       "      <th>DAY_2</th>\n",
       "      <th>DAY_3</th>\n",
       "      <th>DAY_4</th>\n",
       "      <th>DAY_5</th>\n",
       "      <th>DAY_6</th>\n",
       "      <th>DAY_7</th>\n",
       "      <th>DAY_8</th>\n",
       "      <th>DAY_9</th>\n",
       "      <th>DAY_10</th>\n",
       "      <th>DAY_11</th>\n",
       "      <th>DAY_12</th>\n",
       "      <th>DAY_13</th>\n",
       "      <th>DAY_14</th>\n",
       "      <th>DAY_15</th>\n",
       "      <th>DAY_16</th>\n",
       "      <th>DAY_17</th>\n",
       "      <th>DAY_18</th>\n",
       "      <th>DAY_19</th>\n",
       "      <th>DAY_20</th>\n",
       "      <th>DAY_21</th>\n",
       "      <th>DAY_22</th>\n",
       "      <th>DAY_23</th>\n",
       "      <th>DAY_24</th>\n",
       "      <th>DAY_25</th>\n",
       "      <th>DAY_26</th>\n",
       "      <th>DAY_27</th>\n",
       "      <th>DAY_28</th>\n",
       "      <th>DAY_29</th>\n",
       "      <th>DAY_30</th>\n",
       "      <th>DAY_31</th>\n",
       "      <th>HOUR_9</th>\n",
       "      <th>HOUR_10</th>\n",
       "      <th>HOUR_11</th>\n",
       "      <th>HOUR_12</th>\n",
       "      <th>HOUR_13</th>\n",
       "      <th>HOUR_14</th>\n",
       "      <th>MIN_0</th>\n",
       "      <th>MIN_15</th>\n",
       "      <th>MIN_30</th>\n",
       "      <th>MIN_45</th>\n",
       "      <th>MONDAY_MORNING</th>\n",
       "      <th>FRIDAY_AFTERNOON</th>\n",
       "      <th>PREHOLIDAY_AFTERNON</th>\n",
       "      <th>POSTHOLIDAY_MORNING</th>\n",
       "      <th>FVX_PRICE</th>\n",
       "      <th>TVX_PRICE</th>\n",
       "      <th>DOW_PRICE</th>\n",
       "      <th>NASX_PRICE</th>\n",
       "      <th>INX_PRICE</th>\n",
       "      <th>FB_PRICE</th>\n",
       "      <th>GOOG_PRICE</th>\n",
       "      <th>DIS_PRICE</th>\n",
       "      <th>TSLA_PRICE</th>\n",
       "    </tr>\n",
       "    <tr>\n",
       "      <th>DATETIME</th>\n",
       "      <th></th>\n",
       "      <th></th>\n",
       "      <th></th>\n",
       "      <th></th>\n",
       "      <th></th>\n",
       "      <th></th>\n",
       "      <th></th>\n",
       "      <th></th>\n",
       "      <th></th>\n",
       "      <th></th>\n",
       "      <th></th>\n",
       "      <th></th>\n",
       "      <th></th>\n",
       "      <th></th>\n",
       "      <th></th>\n",
       "      <th></th>\n",
       "      <th></th>\n",
       "      <th></th>\n",
       "      <th></th>\n",
       "      <th></th>\n",
       "      <th></th>\n",
       "      <th></th>\n",
       "      <th></th>\n",
       "      <th></th>\n",
       "      <th></th>\n",
       "      <th></th>\n",
       "      <th></th>\n",
       "      <th></th>\n",
       "      <th></th>\n",
       "      <th></th>\n",
       "      <th></th>\n",
       "      <th></th>\n",
       "      <th></th>\n",
       "      <th></th>\n",
       "      <th></th>\n",
       "      <th></th>\n",
       "      <th></th>\n",
       "      <th></th>\n",
       "      <th></th>\n",
       "      <th></th>\n",
       "      <th></th>\n",
       "      <th></th>\n",
       "      <th></th>\n",
       "      <th></th>\n",
       "      <th></th>\n",
       "      <th></th>\n",
       "      <th></th>\n",
       "      <th></th>\n",
       "      <th></th>\n",
       "      <th></th>\n",
       "      <th></th>\n",
       "      <th></th>\n",
       "      <th></th>\n",
       "      <th></th>\n",
       "      <th></th>\n",
       "      <th></th>\n",
       "      <th></th>\n",
       "      <th></th>\n",
       "      <th></th>\n",
       "      <th></th>\n",
       "      <th></th>\n",
       "      <th></th>\n",
       "      <th></th>\n",
       "      <th></th>\n",
       "      <th></th>\n",
       "      <th></th>\n",
       "      <th></th>\n",
       "      <th></th>\n",
       "      <th></th>\n",
       "      <th></th>\n",
       "      <th></th>\n",
       "      <th></th>\n",
       "      <th></th>\n",
       "      <th></th>\n",
       "    </tr>\n",
       "  </thead>\n",
       "  <tbody>\n",
       "    <tr>\n",
       "      <th>2020-06-01 09:30:00</th>\n",
       "      <td>1</td>\n",
       "      <td>0</td>\n",
       "      <td>0</td>\n",
       "      <td>0</td>\n",
       "      <td>0</td>\n",
       "      <td>0</td>\n",
       "      <td>0</td>\n",
       "      <td>0</td>\n",
       "      <td>1</td>\n",
       "      <td>0</td>\n",
       "      <td>0</td>\n",
       "      <td>0</td>\n",
       "      <td>0</td>\n",
       "      <td>0</td>\n",
       "      <td>0</td>\n",
       "      <td>1</td>\n",
       "      <td>0</td>\n",
       "      <td>0</td>\n",
       "      <td>0</td>\n",
       "      <td>0</td>\n",
       "      <td>1</td>\n",
       "      <td>0</td>\n",
       "      <td>0</td>\n",
       "      <td>0</td>\n",
       "      <td>0</td>\n",
       "      <td>0</td>\n",
       "      <td>0</td>\n",
       "      <td>0</td>\n",
       "      <td>0</td>\n",
       "      <td>0</td>\n",
       "      <td>0</td>\n",
       "      <td>0</td>\n",
       "      <td>0</td>\n",
       "      <td>0</td>\n",
       "      <td>0</td>\n",
       "      <td>0</td>\n",
       "      <td>0</td>\n",
       "      <td>0</td>\n",
       "      <td>0</td>\n",
       "      <td>0</td>\n",
       "      <td>0</td>\n",
       "      <td>0</td>\n",
       "      <td>0</td>\n",
       "      <td>0</td>\n",
       "      <td>0</td>\n",
       "      <td>0</td>\n",
       "      <td>0</td>\n",
       "      <td>0</td>\n",
       "      <td>0</td>\n",
       "      <td>0</td>\n",
       "      <td>0</td>\n",
       "      <td>1</td>\n",
       "      <td>0</td>\n",
       "      <td>0</td>\n",
       "      <td>0</td>\n",
       "      <td>0</td>\n",
       "      <td>0</td>\n",
       "      <td>0</td>\n",
       "      <td>0</td>\n",
       "      <td>1</td>\n",
       "      <td>0</td>\n",
       "      <td>1</td>\n",
       "      <td>0</td>\n",
       "      <td>0</td>\n",
       "      <td>0</td>\n",
       "      <td>0.31</td>\n",
       "      <td>0.67</td>\n",
       "      <td>25313.63</td>\n",
       "      <td>9505.40</td>\n",
       "      <td>3042.51</td>\n",
       "      <td>227.3900</td>\n",
       "      <td>1435.0400</td>\n",
       "      <td>118.0525</td>\n",
       "      <td>173.6571</td>\n",
       "    </tr>\n",
       "    <tr>\n",
       "      <th>2020-06-01 09:45:00</th>\n",
       "      <td>1</td>\n",
       "      <td>0</td>\n",
       "      <td>0</td>\n",
       "      <td>0</td>\n",
       "      <td>0</td>\n",
       "      <td>0</td>\n",
       "      <td>0</td>\n",
       "      <td>0</td>\n",
       "      <td>1</td>\n",
       "      <td>0</td>\n",
       "      <td>0</td>\n",
       "      <td>0</td>\n",
       "      <td>0</td>\n",
       "      <td>0</td>\n",
       "      <td>0</td>\n",
       "      <td>1</td>\n",
       "      <td>0</td>\n",
       "      <td>0</td>\n",
       "      <td>0</td>\n",
       "      <td>0</td>\n",
       "      <td>1</td>\n",
       "      <td>0</td>\n",
       "      <td>0</td>\n",
       "      <td>0</td>\n",
       "      <td>0</td>\n",
       "      <td>0</td>\n",
       "      <td>0</td>\n",
       "      <td>0</td>\n",
       "      <td>0</td>\n",
       "      <td>0</td>\n",
       "      <td>0</td>\n",
       "      <td>0</td>\n",
       "      <td>0</td>\n",
       "      <td>0</td>\n",
       "      <td>0</td>\n",
       "      <td>0</td>\n",
       "      <td>0</td>\n",
       "      <td>0</td>\n",
       "      <td>0</td>\n",
       "      <td>0</td>\n",
       "      <td>0</td>\n",
       "      <td>0</td>\n",
       "      <td>0</td>\n",
       "      <td>0</td>\n",
       "      <td>0</td>\n",
       "      <td>0</td>\n",
       "      <td>0</td>\n",
       "      <td>0</td>\n",
       "      <td>0</td>\n",
       "      <td>0</td>\n",
       "      <td>0</td>\n",
       "      <td>1</td>\n",
       "      <td>0</td>\n",
       "      <td>0</td>\n",
       "      <td>0</td>\n",
       "      <td>0</td>\n",
       "      <td>0</td>\n",
       "      <td>0</td>\n",
       "      <td>0</td>\n",
       "      <td>0</td>\n",
       "      <td>1</td>\n",
       "      <td>1</td>\n",
       "      <td>0</td>\n",
       "      <td>0</td>\n",
       "      <td>0</td>\n",
       "      <td>0.31</td>\n",
       "      <td>0.67</td>\n",
       "      <td>25365.99</td>\n",
       "      <td>9502.91</td>\n",
       "      <td>3041.97</td>\n",
       "      <td>228.7988</td>\n",
       "      <td>1431.8100</td>\n",
       "      <td>118.1700</td>\n",
       "      <td>174.9291</td>\n",
       "    </tr>\n",
       "    <tr>\n",
       "      <th>2020-06-01 10:00:00</th>\n",
       "      <td>1</td>\n",
       "      <td>0</td>\n",
       "      <td>0</td>\n",
       "      <td>0</td>\n",
       "      <td>0</td>\n",
       "      <td>0</td>\n",
       "      <td>0</td>\n",
       "      <td>0</td>\n",
       "      <td>1</td>\n",
       "      <td>0</td>\n",
       "      <td>0</td>\n",
       "      <td>0</td>\n",
       "      <td>0</td>\n",
       "      <td>0</td>\n",
       "      <td>0</td>\n",
       "      <td>1</td>\n",
       "      <td>0</td>\n",
       "      <td>0</td>\n",
       "      <td>0</td>\n",
       "      <td>0</td>\n",
       "      <td>1</td>\n",
       "      <td>0</td>\n",
       "      <td>0</td>\n",
       "      <td>0</td>\n",
       "      <td>0</td>\n",
       "      <td>0</td>\n",
       "      <td>0</td>\n",
       "      <td>0</td>\n",
       "      <td>0</td>\n",
       "      <td>0</td>\n",
       "      <td>0</td>\n",
       "      <td>0</td>\n",
       "      <td>0</td>\n",
       "      <td>0</td>\n",
       "      <td>0</td>\n",
       "      <td>0</td>\n",
       "      <td>0</td>\n",
       "      <td>0</td>\n",
       "      <td>0</td>\n",
       "      <td>0</td>\n",
       "      <td>0</td>\n",
       "      <td>0</td>\n",
       "      <td>0</td>\n",
       "      <td>0</td>\n",
       "      <td>0</td>\n",
       "      <td>0</td>\n",
       "      <td>0</td>\n",
       "      <td>0</td>\n",
       "      <td>0</td>\n",
       "      <td>0</td>\n",
       "      <td>0</td>\n",
       "      <td>0</td>\n",
       "      <td>1</td>\n",
       "      <td>0</td>\n",
       "      <td>0</td>\n",
       "      <td>0</td>\n",
       "      <td>0</td>\n",
       "      <td>1</td>\n",
       "      <td>0</td>\n",
       "      <td>0</td>\n",
       "      <td>0</td>\n",
       "      <td>1</td>\n",
       "      <td>0</td>\n",
       "      <td>0</td>\n",
       "      <td>0</td>\n",
       "      <td>0.31</td>\n",
       "      <td>0.67</td>\n",
       "      <td>25421.55</td>\n",
       "      <td>9521.96</td>\n",
       "      <td>3048.15</td>\n",
       "      <td>228.7500</td>\n",
       "      <td>1436.2700</td>\n",
       "      <td>118.3800</td>\n",
       "      <td>175.5382</td>\n",
       "    </tr>\n",
       "    <tr>\n",
       "      <th>2020-06-01 10:15:00</th>\n",
       "      <td>1</td>\n",
       "      <td>0</td>\n",
       "      <td>0</td>\n",
       "      <td>0</td>\n",
       "      <td>0</td>\n",
       "      <td>0</td>\n",
       "      <td>0</td>\n",
       "      <td>0</td>\n",
       "      <td>1</td>\n",
       "      <td>0</td>\n",
       "      <td>0</td>\n",
       "      <td>0</td>\n",
       "      <td>0</td>\n",
       "      <td>0</td>\n",
       "      <td>0</td>\n",
       "      <td>1</td>\n",
       "      <td>0</td>\n",
       "      <td>0</td>\n",
       "      <td>0</td>\n",
       "      <td>0</td>\n",
       "      <td>1</td>\n",
       "      <td>0</td>\n",
       "      <td>0</td>\n",
       "      <td>0</td>\n",
       "      <td>0</td>\n",
       "      <td>0</td>\n",
       "      <td>0</td>\n",
       "      <td>0</td>\n",
       "      <td>0</td>\n",
       "      <td>0</td>\n",
       "      <td>0</td>\n",
       "      <td>0</td>\n",
       "      <td>0</td>\n",
       "      <td>0</td>\n",
       "      <td>0</td>\n",
       "      <td>0</td>\n",
       "      <td>0</td>\n",
       "      <td>0</td>\n",
       "      <td>0</td>\n",
       "      <td>0</td>\n",
       "      <td>0</td>\n",
       "      <td>0</td>\n",
       "      <td>0</td>\n",
       "      <td>0</td>\n",
       "      <td>0</td>\n",
       "      <td>0</td>\n",
       "      <td>0</td>\n",
       "      <td>0</td>\n",
       "      <td>0</td>\n",
       "      <td>0</td>\n",
       "      <td>0</td>\n",
       "      <td>0</td>\n",
       "      <td>1</td>\n",
       "      <td>0</td>\n",
       "      <td>0</td>\n",
       "      <td>0</td>\n",
       "      <td>0</td>\n",
       "      <td>0</td>\n",
       "      <td>1</td>\n",
       "      <td>0</td>\n",
       "      <td>0</td>\n",
       "      <td>1</td>\n",
       "      <td>0</td>\n",
       "      <td>0</td>\n",
       "      <td>0</td>\n",
       "      <td>0.32</td>\n",
       "      <td>0.68</td>\n",
       "      <td>25436.04</td>\n",
       "      <td>9526.87</td>\n",
       "      <td>3050.03</td>\n",
       "      <td>228.7101</td>\n",
       "      <td>1434.0500</td>\n",
       "      <td>118.4800</td>\n",
       "      <td>175.4510</td>\n",
       "    </tr>\n",
       "    <tr>\n",
       "      <th>2020-06-01 10:30:00</th>\n",
       "      <td>1</td>\n",
       "      <td>0</td>\n",
       "      <td>0</td>\n",
       "      <td>0</td>\n",
       "      <td>0</td>\n",
       "      <td>0</td>\n",
       "      <td>0</td>\n",
       "      <td>0</td>\n",
       "      <td>1</td>\n",
       "      <td>0</td>\n",
       "      <td>0</td>\n",
       "      <td>0</td>\n",
       "      <td>0</td>\n",
       "      <td>0</td>\n",
       "      <td>0</td>\n",
       "      <td>1</td>\n",
       "      <td>0</td>\n",
       "      <td>0</td>\n",
       "      <td>0</td>\n",
       "      <td>0</td>\n",
       "      <td>1</td>\n",
       "      <td>0</td>\n",
       "      <td>0</td>\n",
       "      <td>0</td>\n",
       "      <td>0</td>\n",
       "      <td>0</td>\n",
       "      <td>0</td>\n",
       "      <td>0</td>\n",
       "      <td>0</td>\n",
       "      <td>0</td>\n",
       "      <td>0</td>\n",
       "      <td>0</td>\n",
       "      <td>0</td>\n",
       "      <td>0</td>\n",
       "      <td>0</td>\n",
       "      <td>0</td>\n",
       "      <td>0</td>\n",
       "      <td>0</td>\n",
       "      <td>0</td>\n",
       "      <td>0</td>\n",
       "      <td>0</td>\n",
       "      <td>0</td>\n",
       "      <td>0</td>\n",
       "      <td>0</td>\n",
       "      <td>0</td>\n",
       "      <td>0</td>\n",
       "      <td>0</td>\n",
       "      <td>0</td>\n",
       "      <td>0</td>\n",
       "      <td>0</td>\n",
       "      <td>0</td>\n",
       "      <td>0</td>\n",
       "      <td>1</td>\n",
       "      <td>0</td>\n",
       "      <td>0</td>\n",
       "      <td>0</td>\n",
       "      <td>0</td>\n",
       "      <td>0</td>\n",
       "      <td>0</td>\n",
       "      <td>1</td>\n",
       "      <td>0</td>\n",
       "      <td>1</td>\n",
       "      <td>0</td>\n",
       "      <td>0</td>\n",
       "      <td>0</td>\n",
       "      <td>0.31</td>\n",
       "      <td>0.68</td>\n",
       "      <td>25473.21</td>\n",
       "      <td>9535.28</td>\n",
       "      <td>3052.49</td>\n",
       "      <td>228.8700</td>\n",
       "      <td>1431.1245</td>\n",
       "      <td>119.0600</td>\n",
       "      <td>176.6000</td>\n",
       "    </tr>\n",
       "  </tbody>\n",
       "</table>\n",
       "</div>\n",
       "      <button class=\"colab-df-convert\" onclick=\"convertToInteractive('df-f797f0f5-8353-4086-b118-145ba0efc3da')\"\n",
       "              title=\"Convert this dataframe to an interactive table.\"\n",
       "              style=\"display:none;\">\n",
       "        \n",
       "  <svg xmlns=\"http://www.w3.org/2000/svg\" height=\"24px\"viewBox=\"0 0 24 24\"\n",
       "       width=\"24px\">\n",
       "    <path d=\"M0 0h24v24H0V0z\" fill=\"none\"/>\n",
       "    <path d=\"M18.56 5.44l.94 2.06.94-2.06 2.06-.94-2.06-.94-.94-2.06-.94 2.06-2.06.94zm-11 1L8.5 8.5l.94-2.06 2.06-.94-2.06-.94L8.5 2.5l-.94 2.06-2.06.94zm10 10l.94 2.06.94-2.06 2.06-.94-2.06-.94-.94-2.06-.94 2.06-2.06.94z\"/><path d=\"M17.41 7.96l-1.37-1.37c-.4-.4-.92-.59-1.43-.59-.52 0-1.04.2-1.43.59L10.3 9.45l-7.72 7.72c-.78.78-.78 2.05 0 2.83L4 21.41c.39.39.9.59 1.41.59.51 0 1.02-.2 1.41-.59l7.78-7.78 2.81-2.81c.8-.78.8-2.07 0-2.86zM5.41 20L4 18.59l7.72-7.72 1.47 1.35L5.41 20z\"/>\n",
       "  </svg>\n",
       "      </button>\n",
       "      \n",
       "  <style>\n",
       "    .colab-df-container {\n",
       "      display:flex;\n",
       "      flex-wrap:wrap;\n",
       "      gap: 12px;\n",
       "    }\n",
       "\n",
       "    .colab-df-convert {\n",
       "      background-color: #E8F0FE;\n",
       "      border: none;\n",
       "      border-radius: 50%;\n",
       "      cursor: pointer;\n",
       "      display: none;\n",
       "      fill: #1967D2;\n",
       "      height: 32px;\n",
       "      padding: 0 0 0 0;\n",
       "      width: 32px;\n",
       "    }\n",
       "\n",
       "    .colab-df-convert:hover {\n",
       "      background-color: #E2EBFA;\n",
       "      box-shadow: 0px 1px 2px rgba(60, 64, 67, 0.3), 0px 1px 3px 1px rgba(60, 64, 67, 0.15);\n",
       "      fill: #174EA6;\n",
       "    }\n",
       "\n",
       "    [theme=dark] .colab-df-convert {\n",
       "      background-color: #3B4455;\n",
       "      fill: #D2E3FC;\n",
       "    }\n",
       "\n",
       "    [theme=dark] .colab-df-convert:hover {\n",
       "      background-color: #434B5C;\n",
       "      box-shadow: 0px 1px 3px 1px rgba(0, 0, 0, 0.15);\n",
       "      filter: drop-shadow(0px 1px 2px rgba(0, 0, 0, 0.3));\n",
       "      fill: #FFFFFF;\n",
       "    }\n",
       "  </style>\n",
       "\n",
       "      <script>\n",
       "        const buttonEl =\n",
       "          document.querySelector('#df-f797f0f5-8353-4086-b118-145ba0efc3da button.colab-df-convert');\n",
       "        buttonEl.style.display =\n",
       "          google.colab.kernel.accessAllowed ? 'block' : 'none';\n",
       "\n",
       "        async function convertToInteractive(key) {\n",
       "          const element = document.querySelector('#df-f797f0f5-8353-4086-b118-145ba0efc3da');\n",
       "          const dataTable =\n",
       "            await google.colab.kernel.invokeFunction('convertToInteractive',\n",
       "                                                     [key], {});\n",
       "          if (!dataTable) return;\n",
       "\n",
       "          const docLinkHtml = 'Like what you see? Visit the ' +\n",
       "            '<a target=\"_blank\" href=https://colab.research.google.com/notebooks/data_table.ipynb>data table notebook</a>'\n",
       "            + ' to learn more about interactive tables.';\n",
       "          element.innerHTML = '';\n",
       "          dataTable['output_type'] = 'display_data';\n",
       "          await google.colab.output.renderOutput(dataTable, element);\n",
       "          const docLink = document.createElement('div');\n",
       "          docLink.innerHTML = docLinkHtml;\n",
       "          element.appendChild(docLink);\n",
       "        }\n",
       "      </script>\n",
       "    </div>\n",
       "  </div>\n",
       "  "
      ],
      "text/plain": [
       "                     YEAR_2020  YEAR_2021  YEAR_2022  MONTH_1  MONTH_2  \\\n",
       "DATETIME                                                                 \n",
       "2020-06-01 09:30:00          1          0          0        0        0   \n",
       "2020-06-01 09:45:00          1          0          0        0        0   \n",
       "2020-06-01 10:00:00          1          0          0        0        0   \n",
       "2020-06-01 10:15:00          1          0          0        0        0   \n",
       "2020-06-01 10:30:00          1          0          0        0        0   \n",
       "\n",
       "                     MONTH_3  MONTH_4  MONTH_5  MONTH_6  MONTH_7  MONTH_8  \\\n",
       "DATETIME                                                                    \n",
       "2020-06-01 09:30:00        0        0        0        1        0        0   \n",
       "2020-06-01 09:45:00        0        0        0        1        0        0   \n",
       "2020-06-01 10:00:00        0        0        0        1        0        0   \n",
       "2020-06-01 10:15:00        0        0        0        1        0        0   \n",
       "2020-06-01 10:30:00        0        0        0        1        0        0   \n",
       "\n",
       "                     MONTH_9  MONTH_10  MONTH_11  MONTH_12  WEEK_DAY_0  \\\n",
       "DATETIME                                                                 \n",
       "2020-06-01 09:30:00        0         0         0         0           1   \n",
       "2020-06-01 09:45:00        0         0         0         0           1   \n",
       "2020-06-01 10:00:00        0         0         0         0           1   \n",
       "2020-06-01 10:15:00        0         0         0         0           1   \n",
       "2020-06-01 10:30:00        0         0         0         0           1   \n",
       "\n",
       "                     WEEK_DAY_1  WEEK_DAY_2  WEEK_DAY_3  WEEK_DAY_4  DAY_1  \\\n",
       "DATETIME                                                                     \n",
       "2020-06-01 09:30:00           0           0           0           0      1   \n",
       "2020-06-01 09:45:00           0           0           0           0      1   \n",
       "2020-06-01 10:00:00           0           0           0           0      1   \n",
       "2020-06-01 10:15:00           0           0           0           0      1   \n",
       "2020-06-01 10:30:00           0           0           0           0      1   \n",
       "\n",
       "                     DAY_2  DAY_3  DAY_4  DAY_5  DAY_6  DAY_7  DAY_8  DAY_9  \\\n",
       "DATETIME                                                                      \n",
       "2020-06-01 09:30:00      0      0      0      0      0      0      0      0   \n",
       "2020-06-01 09:45:00      0      0      0      0      0      0      0      0   \n",
       "2020-06-01 10:00:00      0      0      0      0      0      0      0      0   \n",
       "2020-06-01 10:15:00      0      0      0      0      0      0      0      0   \n",
       "2020-06-01 10:30:00      0      0      0      0      0      0      0      0   \n",
       "\n",
       "                     DAY_10  DAY_11  DAY_12  DAY_13  DAY_14  DAY_15  DAY_16  \\\n",
       "DATETIME                                                                      \n",
       "2020-06-01 09:30:00       0       0       0       0       0       0       0   \n",
       "2020-06-01 09:45:00       0       0       0       0       0       0       0   \n",
       "2020-06-01 10:00:00       0       0       0       0       0       0       0   \n",
       "2020-06-01 10:15:00       0       0       0       0       0       0       0   \n",
       "2020-06-01 10:30:00       0       0       0       0       0       0       0   \n",
       "\n",
       "                     DAY_17  DAY_18  DAY_19  DAY_20  DAY_21  DAY_22  DAY_23  \\\n",
       "DATETIME                                                                      \n",
       "2020-06-01 09:30:00       0       0       0       0       0       0       0   \n",
       "2020-06-01 09:45:00       0       0       0       0       0       0       0   \n",
       "2020-06-01 10:00:00       0       0       0       0       0       0       0   \n",
       "2020-06-01 10:15:00       0       0       0       0       0       0       0   \n",
       "2020-06-01 10:30:00       0       0       0       0       0       0       0   \n",
       "\n",
       "                     DAY_24  DAY_25  DAY_26  DAY_27  DAY_28  DAY_29  DAY_30  \\\n",
       "DATETIME                                                                      \n",
       "2020-06-01 09:30:00       0       0       0       0       0       0       0   \n",
       "2020-06-01 09:45:00       0       0       0       0       0       0       0   \n",
       "2020-06-01 10:00:00       0       0       0       0       0       0       0   \n",
       "2020-06-01 10:15:00       0       0       0       0       0       0       0   \n",
       "2020-06-01 10:30:00       0       0       0       0       0       0       0   \n",
       "\n",
       "                     DAY_31  HOUR_9  HOUR_10  HOUR_11  HOUR_12  HOUR_13  \\\n",
       "DATETIME                                                                  \n",
       "2020-06-01 09:30:00       0       1        0        0        0        0   \n",
       "2020-06-01 09:45:00       0       1        0        0        0        0   \n",
       "2020-06-01 10:00:00       0       0        1        0        0        0   \n",
       "2020-06-01 10:15:00       0       0        1        0        0        0   \n",
       "2020-06-01 10:30:00       0       0        1        0        0        0   \n",
       "\n",
       "                     HOUR_14  MIN_0  MIN_15  MIN_30  MIN_45  MONDAY_MORNING  \\\n",
       "DATETIME                                                                      \n",
       "2020-06-01 09:30:00        0      0       0       1       0               1   \n",
       "2020-06-01 09:45:00        0      0       0       0       1               1   \n",
       "2020-06-01 10:00:00        0      1       0       0       0               1   \n",
       "2020-06-01 10:15:00        0      0       1       0       0               1   \n",
       "2020-06-01 10:30:00        0      0       0       1       0               1   \n",
       "\n",
       "                     FRIDAY_AFTERNOON  PREHOLIDAY_AFTERNON  \\\n",
       "DATETIME                                                     \n",
       "2020-06-01 09:30:00                 0                    0   \n",
       "2020-06-01 09:45:00                 0                    0   \n",
       "2020-06-01 10:00:00                 0                    0   \n",
       "2020-06-01 10:15:00                 0                    0   \n",
       "2020-06-01 10:30:00                 0                    0   \n",
       "\n",
       "                     POSTHOLIDAY_MORNING  FVX_PRICE  TVX_PRICE  DOW_PRICE  \\\n",
       "DATETIME                                                                    \n",
       "2020-06-01 09:30:00                    0       0.31       0.67   25313.63   \n",
       "2020-06-01 09:45:00                    0       0.31       0.67   25365.99   \n",
       "2020-06-01 10:00:00                    0       0.31       0.67   25421.55   \n",
       "2020-06-01 10:15:00                    0       0.32       0.68   25436.04   \n",
       "2020-06-01 10:30:00                    0       0.31       0.68   25473.21   \n",
       "\n",
       "                     NASX_PRICE  INX_PRICE  FB_PRICE  GOOG_PRICE  DIS_PRICE  \\\n",
       "DATETIME                                                                      \n",
       "2020-06-01 09:30:00     9505.40    3042.51  227.3900   1435.0400   118.0525   \n",
       "2020-06-01 09:45:00     9502.91    3041.97  228.7988   1431.8100   118.1700   \n",
       "2020-06-01 10:00:00     9521.96    3048.15  228.7500   1436.2700   118.3800   \n",
       "2020-06-01 10:15:00     9526.87    3050.03  228.7101   1434.0500   118.4800   \n",
       "2020-06-01 10:30:00     9535.28    3052.49  228.8700   1431.1245   119.0600   \n",
       "\n",
       "                     TSLA_PRICE  \n",
       "DATETIME                         \n",
       "2020-06-01 09:30:00    173.6571  \n",
       "2020-06-01 09:45:00    174.9291  \n",
       "2020-06-01 10:00:00    175.5382  \n",
       "2020-06-01 10:15:00    175.4510  \n",
       "2020-06-01 10:30:00    176.6000  "
      ]
     },
     "execution_count": 547,
     "metadata": {},
     "output_type": "execute_result"
    }
   ],
   "source": [
    "df.head()"
   ]
  },
  {
   "cell_type": "code",
   "execution_count": 547,
   "metadata": {
    "executionInfo": {
     "elapsed": 3,
     "status": "ok",
     "timestamp": 1657051007148,
     "user": {
      "displayName": "Juan Bautista",
      "userId": "05706855501987576761"
     },
     "user_tz": 420
    },
    "id": "HTudeeBS3l7m"
   },
   "outputs": [],
   "source": []
  },
  {
   "cell_type": "markdown",
   "metadata": {
    "id": "7SXrZLhvXmvA"
   },
   "source": [
    "# 4. WRITE DATASET"
   ]
  },
  {
   "cell_type": "code",
   "execution_count": 548,
   "metadata": {
    "executionInfo": {
     "elapsed": 220,
     "status": "ok",
     "timestamp": 1657051007365,
     "user": {
      "displayName": "Juan Bautista",
      "userId": "05706855501987576761"
     },
     "user_tz": 420
    },
    "id": "5orbT8m6-9vy"
   },
   "outputs": [],
   "source": [
    "#Writting files\n",
    "path = '/content/drive/MyDrive/CapstoneProject/code/01. Cleaning/data/'\n",
    "df.to_csv(path+'df.csv', index=True)"
   ]
  },
  {
   "cell_type": "code",
   "execution_count": 548,
   "metadata": {
    "executionInfo": {
     "elapsed": 2,
     "status": "ok",
     "timestamp": 1657051007365,
     "user": {
      "displayName": "Juan Bautista",
      "userId": "05706855501987576761"
     },
     "user_tz": 420
    },
    "id": "ithDw6MI-9vy"
   },
   "outputs": [],
   "source": []
  }
 ],
 "metadata": {
  "colab": {
   "collapsed_sections": [],
   "name": "Cleaning.ipynb",
   "provenance": []
  },
  "gpuClass": "standard",
  "kernelspec": {
   "display_name": "Python 3",
   "language": "python",
   "name": "python3"
  },
  "language_info": {
   "codemirror_mode": {
    "name": "ipython",
    "version": 3
   },
   "file_extension": ".py",
   "mimetype": "text/x-python",
   "name": "python",
   "nbconvert_exporter": "python",
   "pygments_lexer": "ipython3",
   "version": "3.8.8"
  }
 },
 "nbformat": 4,
 "nbformat_minor": 1
}
